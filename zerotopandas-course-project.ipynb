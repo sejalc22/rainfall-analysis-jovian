{
 "cells": [
  {
   "cell_type": "markdown",
   "metadata": {},
   "source": [
    "# Rainfall in India (2006-2015)\n",
    "\n",
    "The dataset used here has been downloaded from kaggle. <br>\n",
    "This analysis tries to implement various plots, methods and fuctions taught in Jovian Course - Data Analysis with Python: Zero to Pandas(http://zerotopandas.com).  <br>"
   ]
  },
  {
   "cell_type": "markdown",
   "metadata": {},
   "source": [
    "## Downloading the Dataset\n",
    "\n"
   ]
  },
  {
   "cell_type": "code",
   "execution_count": 9,
   "metadata": {},
   "outputs": [],
   "source": [
    "!pip install jovian opendatasets --upgrade --quiet"
   ]
  },
  {
   "cell_type": "markdown",
   "metadata": {},
   "source": [
    "Downloading the data, and listing the files within the dataset."
   ]
  },
  {
   "cell_type": "code",
   "execution_count": 10,
   "metadata": {},
   "outputs": [],
   "source": [
    "dataset_url = 'https://www.kaggle.com/rajanand/rainfall-in-india' "
   ]
  },
  {
   "cell_type": "code",
   "execution_count": 11,
   "metadata": {},
   "outputs": [
    {
     "name": "stdout",
     "output_type": "stream",
     "text": [
      "Please provide your Kaggle credentials to download this dataset. Learn more: http://bit.ly/kaggle-creds\n",
      "Your Kaggle username: sejalchaudhari\n",
      "Your Kaggle Key: ········\n"
     ]
    },
    {
     "name": "stderr",
     "output_type": "stream",
     "text": [
      "100%|██████████| 187k/187k [00:00<00:00, 41.1MB/s]"
     ]
    },
    {
     "name": "stdout",
     "output_type": "stream",
     "text": [
      "Downloading rainfall-in-india.zip to ./rainfall-in-india\n",
      "\n"
     ]
    },
    {
     "name": "stderr",
     "output_type": "stream",
     "text": [
      "\n"
     ]
    }
   ],
   "source": [
    "import opendatasets as od\n",
    "od.download(dataset_url)"
   ]
  },
  {
   "cell_type": "markdown",
   "metadata": {},
   "source": [
    "The dataset has been downloaded and extracted."
   ]
  },
  {
   "cell_type": "code",
   "execution_count": 12,
   "metadata": {},
   "outputs": [],
   "source": [
    "data_dir = './'"
   ]
  },
  {
   "cell_type": "code",
   "execution_count": 13,
   "metadata": {},
   "outputs": [
    {
     "data": {
      "text/plain": [
       "['.profile',\n",
       " '.bashrc',\n",
       " '.bash_logout',\n",
       " '.jovianrc',\n",
       " '.local',\n",
       " 'rainfall-in-india',\n",
       " '.ipynb_checkpoints',\n",
       " 'zerotopandas-course-project.ipynb',\n",
       " '.kaggle',\n",
       " '.jovian',\n",
       " '.ipython',\n",
       " '.cache',\n",
       " '.git',\n",
       " '.empty',\n",
       " '.config',\n",
       " 'rainfall_in_india_1901-2015.csv',\n",
       " 'environment.yml',\n",
       " '.conda',\n",
       " 'environment-macos.yml']"
      ]
     },
     "execution_count": 13,
     "metadata": {},
     "output_type": "execute_result"
    }
   ],
   "source": [
    "import os\n",
    "os.listdir(data_dir)"
   ]
  },
  {
   "cell_type": "markdown",
   "metadata": {},
   "source": [
    "Let us save and upload our work to Jovian before continuing."
   ]
  },
  {
   "cell_type": "code",
   "execution_count": 1,
   "metadata": {},
   "outputs": [],
   "source": [
    "project_name = \"rainfall_in_india_2006-2015\" "
   ]
  },
  {
   "cell_type": "code",
   "execution_count": 2,
   "metadata": {},
   "outputs": [],
   "source": [
    "!pip install jovian --upgrade -q"
   ]
  },
  {
   "cell_type": "code",
   "execution_count": 3,
   "metadata": {},
   "outputs": [],
   "source": [
    "import jovian"
   ]
  },
  {
   "cell_type": "code",
   "execution_count": null,
   "metadata": {},
   "outputs": [
    {
     "data": {
      "application/javascript": [
       "window.require && require([\"base/js/namespace\"],function(Jupyter){Jupyter.notebook.save_checkpoint()})"
      ],
      "text/plain": [
       "<IPython.core.display.Javascript object>"
      ]
     },
     "metadata": {},
     "output_type": "display_data"
    },
    {
     "name": "stdout",
     "output_type": "stream",
     "text": [
      "[jovian] Attempting to save notebook..\u001b[0m\n"
     ]
    }
   ],
   "source": [
    "jovian.commit(project=project_name, files=[\"rainfall_in_india_1901-2015.csv\"])"
   ]
  },
  {
   "cell_type": "markdown",
   "metadata": {},
   "source": [
    "## Data Preparation and Cleaning\n",
    "\n",
    "Filtering the data by removing or replacing invalid entries and loading the dataset into respective dataframes.\n",
    "\n"
   ]
  },
  {
   "cell_type": "code",
   "execution_count": 19,
   "metadata": {},
   "outputs": [],
   "source": [
    "import pandas as pd"
   ]
  },
  {
   "cell_type": "markdown",
   "metadata": {},
   "source": [
    "Loading dataset into a dataframe: raw_df"
   ]
  },
  {
   "cell_type": "code",
   "execution_count": 8,
   "metadata": {},
   "outputs": [],
   "source": [
    "raw_df=pd.read_csv(data_dir+\"/rainfall_in_india_1901-2015.csv\")"
   ]
  },
  {
   "cell_type": "code",
   "execution_count": 9,
   "metadata": {},
   "outputs": [
    {
     "data": {
      "text/html": [
       "<div>\n",
       "<style scoped>\n",
       "    .dataframe tbody tr th:only-of-type {\n",
       "        vertical-align: middle;\n",
       "    }\n",
       "\n",
       "    .dataframe tbody tr th {\n",
       "        vertical-align: top;\n",
       "    }\n",
       "\n",
       "    .dataframe thead th {\n",
       "        text-align: right;\n",
       "    }\n",
       "</style>\n",
       "<table border=\"1\" class=\"dataframe\">\n",
       "  <thead>\n",
       "    <tr style=\"text-align: right;\">\n",
       "      <th></th>\n",
       "      <th>SUBDIVISION</th>\n",
       "      <th>YEAR</th>\n",
       "      <th>JAN</th>\n",
       "      <th>FEB</th>\n",
       "      <th>MAR</th>\n",
       "      <th>APR</th>\n",
       "      <th>MAY</th>\n",
       "      <th>JUN</th>\n",
       "      <th>JUL</th>\n",
       "      <th>AUG</th>\n",
       "      <th>SEP</th>\n",
       "      <th>OCT</th>\n",
       "      <th>NOV</th>\n",
       "      <th>DEC</th>\n",
       "      <th>ANNUAL</th>\n",
       "      <th>Jan-Feb</th>\n",
       "      <th>Mar-May</th>\n",
       "      <th>Jun-Sep</th>\n",
       "      <th>Oct-Dec</th>\n",
       "    </tr>\n",
       "  </thead>\n",
       "  <tbody>\n",
       "    <tr>\n",
       "      <th>0</th>\n",
       "      <td>ANDAMAN &amp; NICOBAR ISLANDS</td>\n",
       "      <td>1901</td>\n",
       "      <td>49.2</td>\n",
       "      <td>87.1</td>\n",
       "      <td>29.2</td>\n",
       "      <td>2.3</td>\n",
       "      <td>528.8</td>\n",
       "      <td>517.5</td>\n",
       "      <td>365.1</td>\n",
       "      <td>481.1</td>\n",
       "      <td>332.6</td>\n",
       "      <td>388.5</td>\n",
       "      <td>558.2</td>\n",
       "      <td>33.6</td>\n",
       "      <td>3373.2</td>\n",
       "      <td>136.3</td>\n",
       "      <td>560.3</td>\n",
       "      <td>1696.3</td>\n",
       "      <td>980.3</td>\n",
       "    </tr>\n",
       "    <tr>\n",
       "      <th>1</th>\n",
       "      <td>ANDAMAN &amp; NICOBAR ISLANDS</td>\n",
       "      <td>1902</td>\n",
       "      <td>0.0</td>\n",
       "      <td>159.8</td>\n",
       "      <td>12.2</td>\n",
       "      <td>0.0</td>\n",
       "      <td>446.1</td>\n",
       "      <td>537.1</td>\n",
       "      <td>228.9</td>\n",
       "      <td>753.7</td>\n",
       "      <td>666.2</td>\n",
       "      <td>197.2</td>\n",
       "      <td>359.0</td>\n",
       "      <td>160.5</td>\n",
       "      <td>3520.7</td>\n",
       "      <td>159.8</td>\n",
       "      <td>458.3</td>\n",
       "      <td>2185.9</td>\n",
       "      <td>716.7</td>\n",
       "    </tr>\n",
       "    <tr>\n",
       "      <th>2</th>\n",
       "      <td>ANDAMAN &amp; NICOBAR ISLANDS</td>\n",
       "      <td>1903</td>\n",
       "      <td>12.7</td>\n",
       "      <td>144.0</td>\n",
       "      <td>0.0</td>\n",
       "      <td>1.0</td>\n",
       "      <td>235.1</td>\n",
       "      <td>479.9</td>\n",
       "      <td>728.4</td>\n",
       "      <td>326.7</td>\n",
       "      <td>339.0</td>\n",
       "      <td>181.2</td>\n",
       "      <td>284.4</td>\n",
       "      <td>225.0</td>\n",
       "      <td>2957.4</td>\n",
       "      <td>156.7</td>\n",
       "      <td>236.1</td>\n",
       "      <td>1874.0</td>\n",
       "      <td>690.6</td>\n",
       "    </tr>\n",
       "    <tr>\n",
       "      <th>3</th>\n",
       "      <td>ANDAMAN &amp; NICOBAR ISLANDS</td>\n",
       "      <td>1904</td>\n",
       "      <td>9.4</td>\n",
       "      <td>14.7</td>\n",
       "      <td>0.0</td>\n",
       "      <td>202.4</td>\n",
       "      <td>304.5</td>\n",
       "      <td>495.1</td>\n",
       "      <td>502.0</td>\n",
       "      <td>160.1</td>\n",
       "      <td>820.4</td>\n",
       "      <td>222.2</td>\n",
       "      <td>308.7</td>\n",
       "      <td>40.1</td>\n",
       "      <td>3079.6</td>\n",
       "      <td>24.1</td>\n",
       "      <td>506.9</td>\n",
       "      <td>1977.6</td>\n",
       "      <td>571.0</td>\n",
       "    </tr>\n",
       "    <tr>\n",
       "      <th>4</th>\n",
       "      <td>ANDAMAN &amp; NICOBAR ISLANDS</td>\n",
       "      <td>1905</td>\n",
       "      <td>1.3</td>\n",
       "      <td>0.0</td>\n",
       "      <td>3.3</td>\n",
       "      <td>26.9</td>\n",
       "      <td>279.5</td>\n",
       "      <td>628.7</td>\n",
       "      <td>368.7</td>\n",
       "      <td>330.5</td>\n",
       "      <td>297.0</td>\n",
       "      <td>260.7</td>\n",
       "      <td>25.4</td>\n",
       "      <td>344.7</td>\n",
       "      <td>2566.7</td>\n",
       "      <td>1.3</td>\n",
       "      <td>309.7</td>\n",
       "      <td>1624.9</td>\n",
       "      <td>630.8</td>\n",
       "    </tr>\n",
       "    <tr>\n",
       "      <th>...</th>\n",
       "      <td>...</td>\n",
       "      <td>...</td>\n",
       "      <td>...</td>\n",
       "      <td>...</td>\n",
       "      <td>...</td>\n",
       "      <td>...</td>\n",
       "      <td>...</td>\n",
       "      <td>...</td>\n",
       "      <td>...</td>\n",
       "      <td>...</td>\n",
       "      <td>...</td>\n",
       "      <td>...</td>\n",
       "      <td>...</td>\n",
       "      <td>...</td>\n",
       "      <td>...</td>\n",
       "      <td>...</td>\n",
       "      <td>...</td>\n",
       "      <td>...</td>\n",
       "      <td>...</td>\n",
       "    </tr>\n",
       "    <tr>\n",
       "      <th>4111</th>\n",
       "      <td>LAKSHADWEEP</td>\n",
       "      <td>2011</td>\n",
       "      <td>5.1</td>\n",
       "      <td>2.8</td>\n",
       "      <td>3.1</td>\n",
       "      <td>85.9</td>\n",
       "      <td>107.2</td>\n",
       "      <td>153.6</td>\n",
       "      <td>350.2</td>\n",
       "      <td>254.0</td>\n",
       "      <td>255.2</td>\n",
       "      <td>117.4</td>\n",
       "      <td>184.3</td>\n",
       "      <td>14.9</td>\n",
       "      <td>1533.7</td>\n",
       "      <td>7.9</td>\n",
       "      <td>196.2</td>\n",
       "      <td>1013.0</td>\n",
       "      <td>316.6</td>\n",
       "    </tr>\n",
       "    <tr>\n",
       "      <th>4112</th>\n",
       "      <td>LAKSHADWEEP</td>\n",
       "      <td>2012</td>\n",
       "      <td>19.2</td>\n",
       "      <td>0.1</td>\n",
       "      <td>1.6</td>\n",
       "      <td>76.8</td>\n",
       "      <td>21.2</td>\n",
       "      <td>327.0</td>\n",
       "      <td>231.5</td>\n",
       "      <td>381.2</td>\n",
       "      <td>179.8</td>\n",
       "      <td>145.9</td>\n",
       "      <td>12.4</td>\n",
       "      <td>8.8</td>\n",
       "      <td>1405.5</td>\n",
       "      <td>19.3</td>\n",
       "      <td>99.6</td>\n",
       "      <td>1119.5</td>\n",
       "      <td>167.1</td>\n",
       "    </tr>\n",
       "    <tr>\n",
       "      <th>4113</th>\n",
       "      <td>LAKSHADWEEP</td>\n",
       "      <td>2013</td>\n",
       "      <td>26.2</td>\n",
       "      <td>34.4</td>\n",
       "      <td>37.5</td>\n",
       "      <td>5.3</td>\n",
       "      <td>88.3</td>\n",
       "      <td>426.2</td>\n",
       "      <td>296.4</td>\n",
       "      <td>154.4</td>\n",
       "      <td>180.0</td>\n",
       "      <td>72.8</td>\n",
       "      <td>78.1</td>\n",
       "      <td>26.7</td>\n",
       "      <td>1426.3</td>\n",
       "      <td>60.6</td>\n",
       "      <td>131.1</td>\n",
       "      <td>1057.0</td>\n",
       "      <td>177.6</td>\n",
       "    </tr>\n",
       "    <tr>\n",
       "      <th>4114</th>\n",
       "      <td>LAKSHADWEEP</td>\n",
       "      <td>2014</td>\n",
       "      <td>53.2</td>\n",
       "      <td>16.1</td>\n",
       "      <td>4.4</td>\n",
       "      <td>14.9</td>\n",
       "      <td>57.4</td>\n",
       "      <td>244.1</td>\n",
       "      <td>116.1</td>\n",
       "      <td>466.1</td>\n",
       "      <td>132.2</td>\n",
       "      <td>169.2</td>\n",
       "      <td>59.0</td>\n",
       "      <td>62.3</td>\n",
       "      <td>1395.0</td>\n",
       "      <td>69.3</td>\n",
       "      <td>76.7</td>\n",
       "      <td>958.5</td>\n",
       "      <td>290.5</td>\n",
       "    </tr>\n",
       "    <tr>\n",
       "      <th>4115</th>\n",
       "      <td>LAKSHADWEEP</td>\n",
       "      <td>2015</td>\n",
       "      <td>2.2</td>\n",
       "      <td>0.5</td>\n",
       "      <td>3.7</td>\n",
       "      <td>87.1</td>\n",
       "      <td>133.1</td>\n",
       "      <td>296.6</td>\n",
       "      <td>257.5</td>\n",
       "      <td>146.4</td>\n",
       "      <td>160.4</td>\n",
       "      <td>165.4</td>\n",
       "      <td>231.0</td>\n",
       "      <td>159.0</td>\n",
       "      <td>1642.9</td>\n",
       "      <td>2.7</td>\n",
       "      <td>223.9</td>\n",
       "      <td>860.9</td>\n",
       "      <td>555.4</td>\n",
       "    </tr>\n",
       "  </tbody>\n",
       "</table>\n",
       "<p>4116 rows × 19 columns</p>\n",
       "</div>"
      ],
      "text/plain": [
       "                    SUBDIVISION  YEAR   JAN    FEB   MAR    APR    MAY    JUN  \\\n",
       "0     ANDAMAN & NICOBAR ISLANDS  1901  49.2   87.1  29.2    2.3  528.8  517.5   \n",
       "1     ANDAMAN & NICOBAR ISLANDS  1902   0.0  159.8  12.2    0.0  446.1  537.1   \n",
       "2     ANDAMAN & NICOBAR ISLANDS  1903  12.7  144.0   0.0    1.0  235.1  479.9   \n",
       "3     ANDAMAN & NICOBAR ISLANDS  1904   9.4   14.7   0.0  202.4  304.5  495.1   \n",
       "4     ANDAMAN & NICOBAR ISLANDS  1905   1.3    0.0   3.3   26.9  279.5  628.7   \n",
       "...                         ...   ...   ...    ...   ...    ...    ...    ...   \n",
       "4111                LAKSHADWEEP  2011   5.1    2.8   3.1   85.9  107.2  153.6   \n",
       "4112                LAKSHADWEEP  2012  19.2    0.1   1.6   76.8   21.2  327.0   \n",
       "4113                LAKSHADWEEP  2013  26.2   34.4  37.5    5.3   88.3  426.2   \n",
       "4114                LAKSHADWEEP  2014  53.2   16.1   4.4   14.9   57.4  244.1   \n",
       "4115                LAKSHADWEEP  2015   2.2    0.5   3.7   87.1  133.1  296.6   \n",
       "\n",
       "        JUL    AUG    SEP    OCT    NOV    DEC  ANNUAL  Jan-Feb  Mar-May  \\\n",
       "0     365.1  481.1  332.6  388.5  558.2   33.6  3373.2    136.3    560.3   \n",
       "1     228.9  753.7  666.2  197.2  359.0  160.5  3520.7    159.8    458.3   \n",
       "2     728.4  326.7  339.0  181.2  284.4  225.0  2957.4    156.7    236.1   \n",
       "3     502.0  160.1  820.4  222.2  308.7   40.1  3079.6     24.1    506.9   \n",
       "4     368.7  330.5  297.0  260.7   25.4  344.7  2566.7      1.3    309.7   \n",
       "...     ...    ...    ...    ...    ...    ...     ...      ...      ...   \n",
       "4111  350.2  254.0  255.2  117.4  184.3   14.9  1533.7      7.9    196.2   \n",
       "4112  231.5  381.2  179.8  145.9   12.4    8.8  1405.5     19.3     99.6   \n",
       "4113  296.4  154.4  180.0   72.8   78.1   26.7  1426.3     60.6    131.1   \n",
       "4114  116.1  466.1  132.2  169.2   59.0   62.3  1395.0     69.3     76.7   \n",
       "4115  257.5  146.4  160.4  165.4  231.0  159.0  1642.9      2.7    223.9   \n",
       "\n",
       "      Jun-Sep  Oct-Dec  \n",
       "0      1696.3    980.3  \n",
       "1      2185.9    716.7  \n",
       "2      1874.0    690.6  \n",
       "3      1977.6    571.0  \n",
       "4      1624.9    630.8  \n",
       "...       ...      ...  \n",
       "4111   1013.0    316.6  \n",
       "4112   1119.5    167.1  \n",
       "4113   1057.0    177.6  \n",
       "4114    958.5    290.5  \n",
       "4115    860.9    555.4  \n",
       "\n",
       "[4116 rows x 19 columns]"
      ]
     },
     "execution_count": 9,
     "metadata": {},
     "output_type": "execute_result"
    }
   ],
   "source": [
    "raw_df"
   ]
  },
  {
   "cell_type": "code",
   "execution_count": 11,
   "metadata": {},
   "outputs": [
    {
     "data": {
      "text/plain": [
       "(4116, 19)"
      ]
     },
     "execution_count": 11,
     "metadata": {},
     "output_type": "execute_result"
    }
   ],
   "source": [
    "raw_df.shape"
   ]
  },
  {
   "cell_type": "markdown",
   "metadata": {},
   "source": [
    "The raw dataset has 4116 rows and 19 columns."
   ]
  },
  {
   "cell_type": "markdown",
   "metadata": {},
   "source": [
    " "
   ]
  },
  {
   "cell_type": "markdown",
   "metadata": {},
   "source": [
    "Selecting data after year 2005"
   ]
  },
  {
   "cell_type": "code",
   "execution_count": 12,
   "metadata": {},
   "outputs": [],
   "source": [
    "rain_df=raw_df.loc[raw_df.YEAR>2005,:]"
   ]
  },
  {
   "cell_type": "code",
   "execution_count": 13,
   "metadata": {},
   "outputs": [],
   "source": [
    "rain_sec_df=raw_df.loc[raw_df.YEAR>2005,:]"
   ]
  },
  {
   "cell_type": "markdown",
   "metadata": {},
   "source": [
    "Dividing dataset into two dataframes : rain_df , rain_sec_df"
   ]
  },
  {
   "cell_type": "code",
   "execution_count": 14,
   "metadata": {},
   "outputs": [],
   "source": [
    "rain_sec_df=rain_sec_df.drop(['JAN', 'FEB','MAR','APR','MAY','JUN','JUL','AUG','SEP','OCT','NOV','DEC'], axis=1)"
   ]
  },
  {
   "cell_type": "code",
   "execution_count": 15,
   "metadata": {},
   "outputs": [],
   "source": [
    "rain_sec_df.reset_index(drop=True, inplace=True)"
   ]
  },
  {
   "cell_type": "markdown",
   "metadata": {},
   "source": [
    "Replacing NaN values with appropriate values"
   ]
  },
  {
   "cell_type": "code",
   "execution_count": 16,
   "metadata": {},
   "outputs": [],
   "source": [
    "import numpy as np\n",
    "rain_sec_df['Jan-Feb'].replace(np.nan,'8.6',inplace=True)\n",
    "rain_sec_df['Jun-Sep'].replace(np.nan,'612.0',inplace=True)\n",
    "rain_sec_df['Oct-Dec'].replace(np.nan,'157.4',inplace=True)\n",
    "rain_sec_df['ANNUAL'].replace(np.nan,'2566.55',inplace=True)"
   ]
  },
  {
   "cell_type": "markdown",
   "metadata": {},
   "source": [
    "Changing object datatype to float datatype"
   ]
  },
  {
   "cell_type": "code",
   "execution_count": 17,
   "metadata": {},
   "outputs": [],
   "source": [
    "rain_sec_df[['Jan-Feb', 'Mar-May','Jun-Sep','Oct-Dec','ANNUAL']] = rain_sec_df[['Jan-Feb', 'Mar-May','Jun-Sep','Oct-Dec','ANNUAL']].apply(pd.to_numeric)"
   ]
  },
  {
   "cell_type": "code",
   "execution_count": 18,
   "metadata": {},
   "outputs": [
    {
     "name": "stdout",
     "output_type": "stream",
     "text": [
      "<class 'pandas.core.frame.DataFrame'>\n",
      "RangeIndex: 360 entries, 0 to 359\n",
      "Data columns (total 7 columns):\n",
      " #   Column       Non-Null Count  Dtype  \n",
      "---  ------       --------------  -----  \n",
      " 0   SUBDIVISION  360 non-null    object \n",
      " 1   YEAR         360 non-null    int64  \n",
      " 2   ANNUAL       360 non-null    float64\n",
      " 3   Jan-Feb      360 non-null    float64\n",
      " 4   Mar-May      360 non-null    float64\n",
      " 5   Jun-Sep      360 non-null    float64\n",
      " 6   Oct-Dec      360 non-null    float64\n",
      "dtypes: float64(5), int64(1), object(1)\n",
      "memory usage: 19.8+ KB\n"
     ]
    }
   ],
   "source": [
    "rain_sec_df.info()"
   ]
  },
  {
   "cell_type": "code",
   "execution_count": 19,
   "metadata": {},
   "outputs": [],
   "source": [
    "rain_df=rain_df.drop(['Jan-Feb', 'Mar-May','Jun-Sep','Oct-Dec'], axis=1)"
   ]
  },
  {
   "cell_type": "code",
   "execution_count": 20,
   "metadata": {},
   "outputs": [],
   "source": [
    "rain_df.reset_index(drop=True, inplace=True)"
   ]
  },
  {
   "cell_type": "markdown",
   "metadata": {},
   "source": [
    "Replacing NaN values with appropriate values"
   ]
  },
  {
   "cell_type": "code",
   "execution_count": 21,
   "metadata": {},
   "outputs": [],
   "source": [
    "import numpy as np\n",
    "rain_df['JAN'].replace(np.nan,'4.8',inplace=True)\n",
    "rain_df['JUL'].replace(np.nan,'266.3',inplace=True)\n",
    "rain_df['NOV'].replace(np.nan,'25.2',inplace=True)\n",
    "rain_df['DEC'].replace(np.nan,'89.8',inplace=True)\n",
    "rain_df['ANNUAL'].replace(np.nan,'2566.55',inplace=True)"
   ]
  },
  {
   "cell_type": "markdown",
   "metadata": {},
   "source": [
    "Changing object datatype to float datatype"
   ]
  },
  {
   "cell_type": "code",
   "execution_count": 22,
   "metadata": {},
   "outputs": [],
   "source": [
    "rain_df[\"JAN\"] = rain_df.JAN.astype(float)\n",
    "rain_df[\"JUL\"] = rain_df.JUL.astype(float)\n",
    "rain_df[\"NOV\"] = rain_df.NOV.astype(float)\n",
    "rain_df[\"DEC\"] = rain_df.DEC.astype(float)\n",
    "rain_df[\"ANNUAL\"] = rain_df.ANNUAL.astype(float)"
   ]
  },
  {
   "cell_type": "code",
   "execution_count": 23,
   "metadata": {},
   "outputs": [
    {
     "name": "stdout",
     "output_type": "stream",
     "text": [
      "<class 'pandas.core.frame.DataFrame'>\n",
      "RangeIndex: 360 entries, 0 to 359\n",
      "Data columns (total 15 columns):\n",
      " #   Column       Non-Null Count  Dtype  \n",
      "---  ------       --------------  -----  \n",
      " 0   SUBDIVISION  360 non-null    object \n",
      " 1   YEAR         360 non-null    int64  \n",
      " 2   JAN          360 non-null    float64\n",
      " 3   FEB          360 non-null    float64\n",
      " 4   MAR          360 non-null    float64\n",
      " 5   APR          360 non-null    float64\n",
      " 6   MAY          360 non-null    float64\n",
      " 7   JUN          360 non-null    float64\n",
      " 8   JUL          360 non-null    float64\n",
      " 9   AUG          360 non-null    float64\n",
      " 10  SEP          360 non-null    float64\n",
      " 11  OCT          360 non-null    float64\n",
      " 12  NOV          360 non-null    float64\n",
      " 13  DEC          360 non-null    float64\n",
      " 14  ANNUAL       360 non-null    float64\n",
      "dtypes: float64(13), int64(1), object(1)\n",
      "memory usage: 42.3+ KB\n"
     ]
    }
   ],
   "source": [
    "rain_df.info()"
   ]
  },
  {
   "cell_type": "code",
   "execution_count": 24,
   "metadata": {},
   "outputs": [
    {
     "data": {
      "text/html": [
       "<div>\n",
       "<style scoped>\n",
       "    .dataframe tbody tr th:only-of-type {\n",
       "        vertical-align: middle;\n",
       "    }\n",
       "\n",
       "    .dataframe tbody tr th {\n",
       "        vertical-align: top;\n",
       "    }\n",
       "\n",
       "    .dataframe thead th {\n",
       "        text-align: right;\n",
       "    }\n",
       "</style>\n",
       "<table border=\"1\" class=\"dataframe\">\n",
       "  <thead>\n",
       "    <tr style=\"text-align: right;\">\n",
       "      <th></th>\n",
       "      <th>YEAR</th>\n",
       "      <th>JAN</th>\n",
       "      <th>FEB</th>\n",
       "      <th>MAR</th>\n",
       "      <th>APR</th>\n",
       "      <th>MAY</th>\n",
       "      <th>JUN</th>\n",
       "      <th>JUL</th>\n",
       "      <th>AUG</th>\n",
       "      <th>SEP</th>\n",
       "      <th>OCT</th>\n",
       "      <th>NOV</th>\n",
       "      <th>DEC</th>\n",
       "      <th>ANNUAL</th>\n",
       "    </tr>\n",
       "  </thead>\n",
       "  <tbody>\n",
       "    <tr>\n",
       "      <th>count</th>\n",
       "      <td>360.000000</td>\n",
       "      <td>360.000000</td>\n",
       "      <td>360.000000</td>\n",
       "      <td>360.000000</td>\n",
       "      <td>360.000000</td>\n",
       "      <td>360.000000</td>\n",
       "      <td>360.000000</td>\n",
       "      <td>360.000000</td>\n",
       "      <td>360.000000</td>\n",
       "      <td>360.000000</td>\n",
       "      <td>360.000000</td>\n",
       "      <td>360.000000</td>\n",
       "      <td>360.000000</td>\n",
       "      <td>360.000000</td>\n",
       "    </tr>\n",
       "    <tr>\n",
       "      <th>mean</th>\n",
       "      <td>2010.500000</td>\n",
       "      <td>14.091389</td>\n",
       "      <td>19.690000</td>\n",
       "      <td>28.762500</td>\n",
       "      <td>43.730556</td>\n",
       "      <td>80.148889</td>\n",
       "      <td>218.039167</td>\n",
       "      <td>325.942778</td>\n",
       "      <td>286.596111</td>\n",
       "      <td>206.766944</td>\n",
       "      <td>83.075278</td>\n",
       "      <td>40.380556</td>\n",
       "      <td>16.271389</td>\n",
       "      <td>1366.076944</td>\n",
       "    </tr>\n",
       "    <tr>\n",
       "      <th>std</th>\n",
       "      <td>2.876279</td>\n",
       "      <td>28.918345</td>\n",
       "      <td>33.937593</td>\n",
       "      <td>45.287605</td>\n",
       "      <td>66.353841</td>\n",
       "      <td>105.970790</td>\n",
       "      <td>213.615482</td>\n",
       "      <td>257.603143</td>\n",
       "      <td>178.373443</td>\n",
       "      <td>134.183272</td>\n",
       "      <td>92.807295</td>\n",
       "      <td>72.300186</td>\n",
       "      <td>34.809190</td>\n",
       "      <td>866.974573</td>\n",
       "    </tr>\n",
       "    <tr>\n",
       "      <th>min</th>\n",
       "      <td>2006.000000</td>\n",
       "      <td>0.000000</td>\n",
       "      <td>0.000000</td>\n",
       "      <td>0.000000</td>\n",
       "      <td>0.000000</td>\n",
       "      <td>0.000000</td>\n",
       "      <td>4.000000</td>\n",
       "      <td>27.400000</td>\n",
       "      <td>10.600000</td>\n",
       "      <td>7.500000</td>\n",
       "      <td>0.000000</td>\n",
       "      <td>0.000000</td>\n",
       "      <td>0.000000</td>\n",
       "      <td>160.400000</td>\n",
       "    </tr>\n",
       "    <tr>\n",
       "      <th>25%</th>\n",
       "      <td>2008.000000</td>\n",
       "      <td>0.400000</td>\n",
       "      <td>0.300000</td>\n",
       "      <td>1.500000</td>\n",
       "      <td>3.200000</td>\n",
       "      <td>8.275000</td>\n",
       "      <td>67.875000</td>\n",
       "      <td>157.975000</td>\n",
       "      <td>163.200000</td>\n",
       "      <td>111.875000</td>\n",
       "      <td>13.525000</td>\n",
       "      <td>1.200000</td>\n",
       "      <td>0.200000</td>\n",
       "      <td>751.925000</td>\n",
       "    </tr>\n",
       "    <tr>\n",
       "      <th>50%</th>\n",
       "      <td>2010.500000</td>\n",
       "      <td>2.750000</td>\n",
       "      <td>5.750000</td>\n",
       "      <td>9.900000</td>\n",
       "      <td>17.600000</td>\n",
       "      <td>38.900000</td>\n",
       "      <td>136.400000</td>\n",
       "      <td>268.650000</td>\n",
       "      <td>254.300000</td>\n",
       "      <td>168.450000</td>\n",
       "      <td>53.400000</td>\n",
       "      <td>8.900000</td>\n",
       "      <td>2.500000</td>\n",
       "      <td>1088.050000</td>\n",
       "    </tr>\n",
       "    <tr>\n",
       "      <th>75%</th>\n",
       "      <td>2013.000000</td>\n",
       "      <td>14.575000</td>\n",
       "      <td>20.775000</td>\n",
       "      <td>37.500000</td>\n",
       "      <td>55.575000</td>\n",
       "      <td>99.125000</td>\n",
       "      <td>297.475000</td>\n",
       "      <td>396.150000</td>\n",
       "      <td>352.175000</td>\n",
       "      <td>263.825000</td>\n",
       "      <td>118.475000</td>\n",
       "      <td>40.625000</td>\n",
       "      <td>14.125000</td>\n",
       "      <td>1647.300000</td>\n",
       "    </tr>\n",
       "    <tr>\n",
       "      <th>max</th>\n",
       "      <td>2015.000000</td>\n",
       "      <td>265.900000</td>\n",
       "      <td>211.600000</td>\n",
       "      <td>341.400000</td>\n",
       "      <td>466.900000</td>\n",
       "      <td>545.500000</td>\n",
       "      <td>1153.000000</td>\n",
       "      <td>1778.900000</td>\n",
       "      <td>1121.000000</td>\n",
       "      <td>868.900000</td>\n",
       "      <td>455.800000</td>\n",
       "      <td>383.800000</td>\n",
       "      <td>246.400000</td>\n",
       "      <td>4229.400000</td>\n",
       "    </tr>\n",
       "  </tbody>\n",
       "</table>\n",
       "</div>"
      ],
      "text/plain": [
       "              YEAR         JAN         FEB         MAR         APR  \\\n",
       "count   360.000000  360.000000  360.000000  360.000000  360.000000   \n",
       "mean   2010.500000   14.091389   19.690000   28.762500   43.730556   \n",
       "std       2.876279   28.918345   33.937593   45.287605   66.353841   \n",
       "min    2006.000000    0.000000    0.000000    0.000000    0.000000   \n",
       "25%    2008.000000    0.400000    0.300000    1.500000    3.200000   \n",
       "50%    2010.500000    2.750000    5.750000    9.900000   17.600000   \n",
       "75%    2013.000000   14.575000   20.775000   37.500000   55.575000   \n",
       "max    2015.000000  265.900000  211.600000  341.400000  466.900000   \n",
       "\n",
       "              MAY          JUN          JUL          AUG         SEP  \\\n",
       "count  360.000000   360.000000   360.000000   360.000000  360.000000   \n",
       "mean    80.148889   218.039167   325.942778   286.596111  206.766944   \n",
       "std    105.970790   213.615482   257.603143   178.373443  134.183272   \n",
       "min      0.000000     4.000000    27.400000    10.600000    7.500000   \n",
       "25%      8.275000    67.875000   157.975000   163.200000  111.875000   \n",
       "50%     38.900000   136.400000   268.650000   254.300000  168.450000   \n",
       "75%     99.125000   297.475000   396.150000   352.175000  263.825000   \n",
       "max    545.500000  1153.000000  1778.900000  1121.000000  868.900000   \n",
       "\n",
       "              OCT         NOV         DEC       ANNUAL  \n",
       "count  360.000000  360.000000  360.000000   360.000000  \n",
       "mean    83.075278   40.380556   16.271389  1366.076944  \n",
       "std     92.807295   72.300186   34.809190   866.974573  \n",
       "min      0.000000    0.000000    0.000000   160.400000  \n",
       "25%     13.525000    1.200000    0.200000   751.925000  \n",
       "50%     53.400000    8.900000    2.500000  1088.050000  \n",
       "75%    118.475000   40.625000   14.125000  1647.300000  \n",
       "max    455.800000  383.800000  246.400000  4229.400000  "
      ]
     },
     "execution_count": 24,
     "metadata": {},
     "output_type": "execute_result"
    }
   ],
   "source": [
    "rain_df.describe()"
   ]
  },
  {
   "cell_type": "markdown",
   "metadata": {},
   "source": [
    "Displaying random 10 rows"
   ]
  },
  {
   "cell_type": "code",
   "execution_count": 25,
   "metadata": {},
   "outputs": [
    {
     "data": {
      "text/html": [
       "<div>\n",
       "<style scoped>\n",
       "    .dataframe tbody tr th:only-of-type {\n",
       "        vertical-align: middle;\n",
       "    }\n",
       "\n",
       "    .dataframe tbody tr th {\n",
       "        vertical-align: top;\n",
       "    }\n",
       "\n",
       "    .dataframe thead th {\n",
       "        text-align: right;\n",
       "    }\n",
       "</style>\n",
       "<table border=\"1\" class=\"dataframe\">\n",
       "  <thead>\n",
       "    <tr style=\"text-align: right;\">\n",
       "      <th></th>\n",
       "      <th>SUBDIVISION</th>\n",
       "      <th>YEAR</th>\n",
       "      <th>JAN</th>\n",
       "      <th>FEB</th>\n",
       "      <th>MAR</th>\n",
       "      <th>APR</th>\n",
       "      <th>MAY</th>\n",
       "      <th>JUN</th>\n",
       "      <th>JUL</th>\n",
       "      <th>AUG</th>\n",
       "      <th>SEP</th>\n",
       "      <th>OCT</th>\n",
       "      <th>NOV</th>\n",
       "      <th>DEC</th>\n",
       "      <th>ANNUAL</th>\n",
       "    </tr>\n",
       "  </thead>\n",
       "  <tbody>\n",
       "    <tr>\n",
       "      <th>231</th>\n",
       "      <td>MADHYA MAHARASHTRA</td>\n",
       "      <td>2007</td>\n",
       "      <td>1.3</td>\n",
       "      <td>0.4</td>\n",
       "      <td>0.0</td>\n",
       "      <td>2.1</td>\n",
       "      <td>5.5</td>\n",
       "      <td>266.9</td>\n",
       "      <td>293.5</td>\n",
       "      <td>274.2</td>\n",
       "      <td>189.2</td>\n",
       "      <td>3.4</td>\n",
       "      <td>3.9</td>\n",
       "      <td>0.0</td>\n",
       "      <td>1040.4</td>\n",
       "    </tr>\n",
       "    <tr>\n",
       "      <th>15</th>\n",
       "      <td>ARUNACHAL PRADESH</td>\n",
       "      <td>2011</td>\n",
       "      <td>40.0</td>\n",
       "      <td>51.3</td>\n",
       "      <td>174.5</td>\n",
       "      <td>240.8</td>\n",
       "      <td>219.6</td>\n",
       "      <td>288.4</td>\n",
       "      <td>531.4</td>\n",
       "      <td>277.6</td>\n",
       "      <td>286.7</td>\n",
       "      <td>51.9</td>\n",
       "      <td>16.2</td>\n",
       "      <td>15.2</td>\n",
       "      <td>2193.7</td>\n",
       "    </tr>\n",
       "    <tr>\n",
       "      <th>149</th>\n",
       "      <td>HIMACHAL PRADESH</td>\n",
       "      <td>2015</td>\n",
       "      <td>67.2</td>\n",
       "      <td>156.6</td>\n",
       "      <td>192.5</td>\n",
       "      <td>84.9</td>\n",
       "      <td>45.0</td>\n",
       "      <td>85.8</td>\n",
       "      <td>249.9</td>\n",
       "      <td>195.9</td>\n",
       "      <td>75.5</td>\n",
       "      <td>17.7</td>\n",
       "      <td>14.5</td>\n",
       "      <td>25.0</td>\n",
       "      <td>1210.5</td>\n",
       "    </tr>\n",
       "    <tr>\n",
       "      <th>335</th>\n",
       "      <td>SOUTH INTERIOR KARNATAKA</td>\n",
       "      <td>2011</td>\n",
       "      <td>2.1</td>\n",
       "      <td>12.4</td>\n",
       "      <td>12.4</td>\n",
       "      <td>80.2</td>\n",
       "      <td>83.5</td>\n",
       "      <td>177.1</td>\n",
       "      <td>202.4</td>\n",
       "      <td>199.5</td>\n",
       "      <td>111.2</td>\n",
       "      <td>144.8</td>\n",
       "      <td>56.7</td>\n",
       "      <td>5.0</td>\n",
       "      <td>1087.4</td>\n",
       "    </tr>\n",
       "    <tr>\n",
       "      <th>120</th>\n",
       "      <td>HARYANA DELHI &amp; CHANDIGARH</td>\n",
       "      <td>2006</td>\n",
       "      <td>2.3</td>\n",
       "      <td>0.1</td>\n",
       "      <td>30.4</td>\n",
       "      <td>0.6</td>\n",
       "      <td>24.8</td>\n",
       "      <td>45.4</td>\n",
       "      <td>135.2</td>\n",
       "      <td>32.1</td>\n",
       "      <td>49.9</td>\n",
       "      <td>3.8</td>\n",
       "      <td>1.2</td>\n",
       "      <td>5.2</td>\n",
       "      <td>330.9</td>\n",
       "    </tr>\n",
       "    <tr>\n",
       "      <th>33</th>\n",
       "      <td>NAGA MANI MIZO TRIPURA</td>\n",
       "      <td>2009</td>\n",
       "      <td>0.0</td>\n",
       "      <td>3.2</td>\n",
       "      <td>27.5</td>\n",
       "      <td>93.1</td>\n",
       "      <td>209.5</td>\n",
       "      <td>271.9</td>\n",
       "      <td>295.8</td>\n",
       "      <td>380.9</td>\n",
       "      <td>271.3</td>\n",
       "      <td>158.2</td>\n",
       "      <td>26.1</td>\n",
       "      <td>0.2</td>\n",
       "      <td>1737.7</td>\n",
       "    </tr>\n",
       "    <tr>\n",
       "      <th>215</th>\n",
       "      <td>SAURASHTRA &amp; KUTCH</td>\n",
       "      <td>2011</td>\n",
       "      <td>0.0</td>\n",
       "      <td>1.4</td>\n",
       "      <td>0.0</td>\n",
       "      <td>0.0</td>\n",
       "      <td>0.0</td>\n",
       "      <td>26.0</td>\n",
       "      <td>212.7</td>\n",
       "      <td>290.9</td>\n",
       "      <td>210.1</td>\n",
       "      <td>1.2</td>\n",
       "      <td>0.1</td>\n",
       "      <td>0.0</td>\n",
       "      <td>742.5</td>\n",
       "    </tr>\n",
       "    <tr>\n",
       "      <th>241</th>\n",
       "      <td>MATATHWADA</td>\n",
       "      <td>2007</td>\n",
       "      <td>0.0</td>\n",
       "      <td>0.0</td>\n",
       "      <td>0.1</td>\n",
       "      <td>0.7</td>\n",
       "      <td>10.0</td>\n",
       "      <td>185.4</td>\n",
       "      <td>123.1</td>\n",
       "      <td>146.2</td>\n",
       "      <td>240.7</td>\n",
       "      <td>0.9</td>\n",
       "      <td>7.5</td>\n",
       "      <td>0.0</td>\n",
       "      <td>714.6</td>\n",
       "    </tr>\n",
       "    <tr>\n",
       "      <th>221</th>\n",
       "      <td>KONKAN &amp; GOA</td>\n",
       "      <td>2007</td>\n",
       "      <td>0.0</td>\n",
       "      <td>0.0</td>\n",
       "      <td>0.1</td>\n",
       "      <td>3.3</td>\n",
       "      <td>33.4</td>\n",
       "      <td>939.3</td>\n",
       "      <td>841.3</td>\n",
       "      <td>980.2</td>\n",
       "      <td>609.0</td>\n",
       "      <td>45.6</td>\n",
       "      <td>16.0</td>\n",
       "      <td>0.1</td>\n",
       "      <td>3468.5</td>\n",
       "    </tr>\n",
       "    <tr>\n",
       "      <th>126</th>\n",
       "      <td>HARYANA DELHI &amp; CHANDIGARH</td>\n",
       "      <td>2012</td>\n",
       "      <td>8.2</td>\n",
       "      <td>0.2</td>\n",
       "      <td>0.1</td>\n",
       "      <td>11.8</td>\n",
       "      <td>3.8</td>\n",
       "      <td>5.3</td>\n",
       "      <td>68.1</td>\n",
       "      <td>196.6</td>\n",
       "      <td>90.7</td>\n",
       "      <td>2.4</td>\n",
       "      <td>0.6</td>\n",
       "      <td>3.5</td>\n",
       "      <td>391.4</td>\n",
       "    </tr>\n",
       "  </tbody>\n",
       "</table>\n",
       "</div>"
      ],
      "text/plain": [
       "                    SUBDIVISION  YEAR   JAN    FEB    MAR    APR    MAY  \\\n",
       "231          MADHYA MAHARASHTRA  2007   1.3    0.4    0.0    2.1    5.5   \n",
       "15            ARUNACHAL PRADESH  2011  40.0   51.3  174.5  240.8  219.6   \n",
       "149            HIMACHAL PRADESH  2015  67.2  156.6  192.5   84.9   45.0   \n",
       "335    SOUTH INTERIOR KARNATAKA  2011   2.1   12.4   12.4   80.2   83.5   \n",
       "120  HARYANA DELHI & CHANDIGARH  2006   2.3    0.1   30.4    0.6   24.8   \n",
       "33       NAGA MANI MIZO TRIPURA  2009   0.0    3.2   27.5   93.1  209.5   \n",
       "215          SAURASHTRA & KUTCH  2011   0.0    1.4    0.0    0.0    0.0   \n",
       "241                  MATATHWADA  2007   0.0    0.0    0.1    0.7   10.0   \n",
       "221                KONKAN & GOA  2007   0.0    0.0    0.1    3.3   33.4   \n",
       "126  HARYANA DELHI & CHANDIGARH  2012   8.2    0.2    0.1   11.8    3.8   \n",
       "\n",
       "       JUN    JUL    AUG    SEP    OCT   NOV   DEC  ANNUAL  \n",
       "231  266.9  293.5  274.2  189.2    3.4   3.9   0.0  1040.4  \n",
       "15   288.4  531.4  277.6  286.7   51.9  16.2  15.2  2193.7  \n",
       "149   85.8  249.9  195.9   75.5   17.7  14.5  25.0  1210.5  \n",
       "335  177.1  202.4  199.5  111.2  144.8  56.7   5.0  1087.4  \n",
       "120   45.4  135.2   32.1   49.9    3.8   1.2   5.2   330.9  \n",
       "33   271.9  295.8  380.9  271.3  158.2  26.1   0.2  1737.7  \n",
       "215   26.0  212.7  290.9  210.1    1.2   0.1   0.0   742.5  \n",
       "241  185.4  123.1  146.2  240.7    0.9   7.5   0.0   714.6  \n",
       "221  939.3  841.3  980.2  609.0   45.6  16.0   0.1  3468.5  \n",
       "126    5.3   68.1  196.6   90.7    2.4   0.6   3.5   391.4  "
      ]
     },
     "execution_count": 25,
     "metadata": {},
     "output_type": "execute_result"
    }
   ],
   "source": [
    "rain_df.sample(10)"
   ]
  },
  {
   "cell_type": "code",
   "execution_count": 26,
   "metadata": {},
   "outputs": [
    {
     "data": {
      "text/html": [
       "<div>\n",
       "<style scoped>\n",
       "    .dataframe tbody tr th:only-of-type {\n",
       "        vertical-align: middle;\n",
       "    }\n",
       "\n",
       "    .dataframe tbody tr th {\n",
       "        vertical-align: top;\n",
       "    }\n",
       "\n",
       "    .dataframe thead th {\n",
       "        text-align: right;\n",
       "    }\n",
       "</style>\n",
       "<table border=\"1\" class=\"dataframe\">\n",
       "  <thead>\n",
       "    <tr style=\"text-align: right;\">\n",
       "      <th></th>\n",
       "      <th>SUBDIVISION</th>\n",
       "      <th>YEAR</th>\n",
       "      <th>ANNUAL</th>\n",
       "      <th>Jan-Feb</th>\n",
       "      <th>Mar-May</th>\n",
       "      <th>Jun-Sep</th>\n",
       "      <th>Oct-Dec</th>\n",
       "    </tr>\n",
       "  </thead>\n",
       "  <tbody>\n",
       "    <tr>\n",
       "      <th>198</th>\n",
       "      <td>EAST MADHYA PRADESH</td>\n",
       "      <td>2014</td>\n",
       "      <td>924.9</td>\n",
       "      <td>81.8</td>\n",
       "      <td>25.3</td>\n",
       "      <td>746.6</td>\n",
       "      <td>71.2</td>\n",
       "    </tr>\n",
       "    <tr>\n",
       "      <th>295</th>\n",
       "      <td>RAYALSEEMA</td>\n",
       "      <td>2011</td>\n",
       "      <td>738.0</td>\n",
       "      <td>12.8</td>\n",
       "      <td>67.6</td>\n",
       "      <td>408.2</td>\n",
       "      <td>249.4</td>\n",
       "    </tr>\n",
       "    <tr>\n",
       "      <th>32</th>\n",
       "      <td>NAGA MANI MIZO TRIPURA</td>\n",
       "      <td>2008</td>\n",
       "      <td>1748.9</td>\n",
       "      <td>44.4</td>\n",
       "      <td>305.3</td>\n",
       "      <td>1243.0</td>\n",
       "      <td>156.1</td>\n",
       "    </tr>\n",
       "    <tr>\n",
       "      <th>80</th>\n",
       "      <td>BIHAR</td>\n",
       "      <td>2006</td>\n",
       "      <td>1052.8</td>\n",
       "      <td>0.1</td>\n",
       "      <td>94.3</td>\n",
       "      <td>936.3</td>\n",
       "      <td>22.1</td>\n",
       "    </tr>\n",
       "    <tr>\n",
       "      <th>6</th>\n",
       "      <td>ANDAMAN &amp; NICOBAR ISLANDS</td>\n",
       "      <td>2012</td>\n",
       "      <td>3497.6</td>\n",
       "      <td>165.6</td>\n",
       "      <td>620.5</td>\n",
       "      <td>2014.0</td>\n",
       "      <td>697.5</td>\n",
       "    </tr>\n",
       "    <tr>\n",
       "      <th>42</th>\n",
       "      <td>SUB HIMALAYAN WEST BENGAL &amp; SIKKIM</td>\n",
       "      <td>2008</td>\n",
       "      <td>2689.9</td>\n",
       "      <td>55.3</td>\n",
       "      <td>393.0</td>\n",
       "      <td>2117.3</td>\n",
       "      <td>124.3</td>\n",
       "    </tr>\n",
       "    <tr>\n",
       "      <th>37</th>\n",
       "      <td>NAGA MANI MIZO TRIPURA</td>\n",
       "      <td>2013</td>\n",
       "      <td>1557.2</td>\n",
       "      <td>5.9</td>\n",
       "      <td>428.9</td>\n",
       "      <td>995.2</td>\n",
       "      <td>127.1</td>\n",
       "    </tr>\n",
       "    <tr>\n",
       "      <th>176</th>\n",
       "      <td>EAST RAJASTHAN</td>\n",
       "      <td>2012</td>\n",
       "      <td>693.6</td>\n",
       "      <td>1.9</td>\n",
       "      <td>13.1</td>\n",
       "      <td>678.0</td>\n",
       "      <td>0.6</td>\n",
       "    </tr>\n",
       "    <tr>\n",
       "      <th>357</th>\n",
       "      <td>LAKSHADWEEP</td>\n",
       "      <td>2013</td>\n",
       "      <td>1426.3</td>\n",
       "      <td>60.6</td>\n",
       "      <td>131.1</td>\n",
       "      <td>1057.0</td>\n",
       "      <td>177.6</td>\n",
       "    </tr>\n",
       "    <tr>\n",
       "      <th>226</th>\n",
       "      <td>KONKAN &amp; GOA</td>\n",
       "      <td>2012</td>\n",
       "      <td>3018.4</td>\n",
       "      <td>0.0</td>\n",
       "      <td>1.7</td>\n",
       "      <td>2839.3</td>\n",
       "      <td>177.4</td>\n",
       "    </tr>\n",
       "  </tbody>\n",
       "</table>\n",
       "</div>"
      ],
      "text/plain": [
       "                            SUBDIVISION  YEAR  ANNUAL  Jan-Feb  Mar-May  \\\n",
       "198                 EAST MADHYA PRADESH  2014   924.9     81.8     25.3   \n",
       "295                          RAYALSEEMA  2011   738.0     12.8     67.6   \n",
       "32               NAGA MANI MIZO TRIPURA  2008  1748.9     44.4    305.3   \n",
       "80                                BIHAR  2006  1052.8      0.1     94.3   \n",
       "6             ANDAMAN & NICOBAR ISLANDS  2012  3497.6    165.6    620.5   \n",
       "42   SUB HIMALAYAN WEST BENGAL & SIKKIM  2008  2689.9     55.3    393.0   \n",
       "37               NAGA MANI MIZO TRIPURA  2013  1557.2      5.9    428.9   \n",
       "176                      EAST RAJASTHAN  2012   693.6      1.9     13.1   \n",
       "357                         LAKSHADWEEP  2013  1426.3     60.6    131.1   \n",
       "226                        KONKAN & GOA  2012  3018.4      0.0      1.7   \n",
       "\n",
       "     Jun-Sep  Oct-Dec  \n",
       "198    746.6     71.2  \n",
       "295    408.2    249.4  \n",
       "32    1243.0    156.1  \n",
       "80     936.3     22.1  \n",
       "6     2014.0    697.5  \n",
       "42    2117.3    124.3  \n",
       "37     995.2    127.1  \n",
       "176    678.0      0.6  \n",
       "357   1057.0    177.6  \n",
       "226   2839.3    177.4  "
      ]
     },
     "execution_count": 26,
     "metadata": {},
     "output_type": "execute_result"
    }
   ],
   "source": [
    "rain_sec_df.sample(10)"
   ]
  },
  {
   "cell_type": "markdown",
   "metadata": {},
   "source": [
    "Let's look at the final datasets: rain_df & rain_sec_df"
   ]
  },
  {
   "cell_type": "code",
   "execution_count": 27,
   "metadata": {},
   "outputs": [
    {
     "data": {
      "text/html": [
       "<div>\n",
       "<style scoped>\n",
       "    .dataframe tbody tr th:only-of-type {\n",
       "        vertical-align: middle;\n",
       "    }\n",
       "\n",
       "    .dataframe tbody tr th {\n",
       "        vertical-align: top;\n",
       "    }\n",
       "\n",
       "    .dataframe thead th {\n",
       "        text-align: right;\n",
       "    }\n",
       "</style>\n",
       "<table border=\"1\" class=\"dataframe\">\n",
       "  <thead>\n",
       "    <tr style=\"text-align: right;\">\n",
       "      <th></th>\n",
       "      <th>SUBDIVISION</th>\n",
       "      <th>YEAR</th>\n",
       "      <th>JAN</th>\n",
       "      <th>FEB</th>\n",
       "      <th>MAR</th>\n",
       "      <th>APR</th>\n",
       "      <th>MAY</th>\n",
       "      <th>JUN</th>\n",
       "      <th>JUL</th>\n",
       "      <th>AUG</th>\n",
       "      <th>SEP</th>\n",
       "      <th>OCT</th>\n",
       "      <th>NOV</th>\n",
       "      <th>DEC</th>\n",
       "      <th>ANNUAL</th>\n",
       "    </tr>\n",
       "  </thead>\n",
       "  <tbody>\n",
       "    <tr>\n",
       "      <th>0</th>\n",
       "      <td>ANDAMAN &amp; NICOBAR ISLANDS</td>\n",
       "      <td>2006</td>\n",
       "      <td>16.3</td>\n",
       "      <td>14.4</td>\n",
       "      <td>48.9</td>\n",
       "      <td>163.7</td>\n",
       "      <td>321.4</td>\n",
       "      <td>366.0</td>\n",
       "      <td>182.7</td>\n",
       "      <td>219.6</td>\n",
       "      <td>546.5</td>\n",
       "      <td>374.7</td>\n",
       "      <td>76.1</td>\n",
       "      <td>74.4</td>\n",
       "      <td>2404.7</td>\n",
       "    </tr>\n",
       "    <tr>\n",
       "      <th>1</th>\n",
       "      <td>ANDAMAN &amp; NICOBAR ISLANDS</td>\n",
       "      <td>2007</td>\n",
       "      <td>4.9</td>\n",
       "      <td>1.6</td>\n",
       "      <td>5.0</td>\n",
       "      <td>54.6</td>\n",
       "      <td>370.0</td>\n",
       "      <td>378.3</td>\n",
       "      <td>463.2</td>\n",
       "      <td>465.3</td>\n",
       "      <td>486.4</td>\n",
       "      <td>209.4</td>\n",
       "      <td>223.9</td>\n",
       "      <td>85.6</td>\n",
       "      <td>2748.0</td>\n",
       "    </tr>\n",
       "    <tr>\n",
       "      <th>2</th>\n",
       "      <td>ANDAMAN &amp; NICOBAR ISLANDS</td>\n",
       "      <td>2008</td>\n",
       "      <td>9.9</td>\n",
       "      <td>67.7</td>\n",
       "      <td>115.8</td>\n",
       "      <td>216.1</td>\n",
       "      <td>545.5</td>\n",
       "      <td>457.8</td>\n",
       "      <td>511.2</td>\n",
       "      <td>482.1</td>\n",
       "      <td>332.0</td>\n",
       "      <td>243.7</td>\n",
       "      <td>321.1</td>\n",
       "      <td>72.0</td>\n",
       "      <td>3374.8</td>\n",
       "    </tr>\n",
       "    <tr>\n",
       "      <th>3</th>\n",
       "      <td>ANDAMAN &amp; NICOBAR ISLANDS</td>\n",
       "      <td>2009</td>\n",
       "      <td>24.5</td>\n",
       "      <td>6.3</td>\n",
       "      <td>44.2</td>\n",
       "      <td>136.5</td>\n",
       "      <td>313.1</td>\n",
       "      <td>633.5</td>\n",
       "      <td>297.3</td>\n",
       "      <td>351.5</td>\n",
       "      <td>344.7</td>\n",
       "      <td>272.8</td>\n",
       "      <td>66.2</td>\n",
       "      <td>48.0</td>\n",
       "      <td>2538.6</td>\n",
       "    </tr>\n",
       "    <tr>\n",
       "      <th>4</th>\n",
       "      <td>ANDAMAN &amp; NICOBAR ISLANDS</td>\n",
       "      <td>2010</td>\n",
       "      <td>101.7</td>\n",
       "      <td>8.0</td>\n",
       "      <td>0.7</td>\n",
       "      <td>12.5</td>\n",
       "      <td>319.0</td>\n",
       "      <td>448.9</td>\n",
       "      <td>521.9</td>\n",
       "      <td>563.8</td>\n",
       "      <td>263.3</td>\n",
       "      <td>402.4</td>\n",
       "      <td>268.5</td>\n",
       "      <td>246.4</td>\n",
       "      <td>3157.1</td>\n",
       "    </tr>\n",
       "    <tr>\n",
       "      <th>...</th>\n",
       "      <td>...</td>\n",
       "      <td>...</td>\n",
       "      <td>...</td>\n",
       "      <td>...</td>\n",
       "      <td>...</td>\n",
       "      <td>...</td>\n",
       "      <td>...</td>\n",
       "      <td>...</td>\n",
       "      <td>...</td>\n",
       "      <td>...</td>\n",
       "      <td>...</td>\n",
       "      <td>...</td>\n",
       "      <td>...</td>\n",
       "      <td>...</td>\n",
       "      <td>...</td>\n",
       "    </tr>\n",
       "    <tr>\n",
       "      <th>355</th>\n",
       "      <td>LAKSHADWEEP</td>\n",
       "      <td>2011</td>\n",
       "      <td>5.1</td>\n",
       "      <td>2.8</td>\n",
       "      <td>3.1</td>\n",
       "      <td>85.9</td>\n",
       "      <td>107.2</td>\n",
       "      <td>153.6</td>\n",
       "      <td>350.2</td>\n",
       "      <td>254.0</td>\n",
       "      <td>255.2</td>\n",
       "      <td>117.4</td>\n",
       "      <td>184.3</td>\n",
       "      <td>14.9</td>\n",
       "      <td>1533.7</td>\n",
       "    </tr>\n",
       "    <tr>\n",
       "      <th>356</th>\n",
       "      <td>LAKSHADWEEP</td>\n",
       "      <td>2012</td>\n",
       "      <td>19.2</td>\n",
       "      <td>0.1</td>\n",
       "      <td>1.6</td>\n",
       "      <td>76.8</td>\n",
       "      <td>21.2</td>\n",
       "      <td>327.0</td>\n",
       "      <td>231.5</td>\n",
       "      <td>381.2</td>\n",
       "      <td>179.8</td>\n",
       "      <td>145.9</td>\n",
       "      <td>12.4</td>\n",
       "      <td>8.8</td>\n",
       "      <td>1405.5</td>\n",
       "    </tr>\n",
       "    <tr>\n",
       "      <th>357</th>\n",
       "      <td>LAKSHADWEEP</td>\n",
       "      <td>2013</td>\n",
       "      <td>26.2</td>\n",
       "      <td>34.4</td>\n",
       "      <td>37.5</td>\n",
       "      <td>5.3</td>\n",
       "      <td>88.3</td>\n",
       "      <td>426.2</td>\n",
       "      <td>296.4</td>\n",
       "      <td>154.4</td>\n",
       "      <td>180.0</td>\n",
       "      <td>72.8</td>\n",
       "      <td>78.1</td>\n",
       "      <td>26.7</td>\n",
       "      <td>1426.3</td>\n",
       "    </tr>\n",
       "    <tr>\n",
       "      <th>358</th>\n",
       "      <td>LAKSHADWEEP</td>\n",
       "      <td>2014</td>\n",
       "      <td>53.2</td>\n",
       "      <td>16.1</td>\n",
       "      <td>4.4</td>\n",
       "      <td>14.9</td>\n",
       "      <td>57.4</td>\n",
       "      <td>244.1</td>\n",
       "      <td>116.1</td>\n",
       "      <td>466.1</td>\n",
       "      <td>132.2</td>\n",
       "      <td>169.2</td>\n",
       "      <td>59.0</td>\n",
       "      <td>62.3</td>\n",
       "      <td>1395.0</td>\n",
       "    </tr>\n",
       "    <tr>\n",
       "      <th>359</th>\n",
       "      <td>LAKSHADWEEP</td>\n",
       "      <td>2015</td>\n",
       "      <td>2.2</td>\n",
       "      <td>0.5</td>\n",
       "      <td>3.7</td>\n",
       "      <td>87.1</td>\n",
       "      <td>133.1</td>\n",
       "      <td>296.6</td>\n",
       "      <td>257.5</td>\n",
       "      <td>146.4</td>\n",
       "      <td>160.4</td>\n",
       "      <td>165.4</td>\n",
       "      <td>231.0</td>\n",
       "      <td>159.0</td>\n",
       "      <td>1642.9</td>\n",
       "    </tr>\n",
       "  </tbody>\n",
       "</table>\n",
       "<p>360 rows × 15 columns</p>\n",
       "</div>"
      ],
      "text/plain": [
       "                   SUBDIVISION  YEAR    JAN   FEB    MAR    APR    MAY    JUN  \\\n",
       "0    ANDAMAN & NICOBAR ISLANDS  2006   16.3  14.4   48.9  163.7  321.4  366.0   \n",
       "1    ANDAMAN & NICOBAR ISLANDS  2007    4.9   1.6    5.0   54.6  370.0  378.3   \n",
       "2    ANDAMAN & NICOBAR ISLANDS  2008    9.9  67.7  115.8  216.1  545.5  457.8   \n",
       "3    ANDAMAN & NICOBAR ISLANDS  2009   24.5   6.3   44.2  136.5  313.1  633.5   \n",
       "4    ANDAMAN & NICOBAR ISLANDS  2010  101.7   8.0    0.7   12.5  319.0  448.9   \n",
       "..                         ...   ...    ...   ...    ...    ...    ...    ...   \n",
       "355                LAKSHADWEEP  2011    5.1   2.8    3.1   85.9  107.2  153.6   \n",
       "356                LAKSHADWEEP  2012   19.2   0.1    1.6   76.8   21.2  327.0   \n",
       "357                LAKSHADWEEP  2013   26.2  34.4   37.5    5.3   88.3  426.2   \n",
       "358                LAKSHADWEEP  2014   53.2  16.1    4.4   14.9   57.4  244.1   \n",
       "359                LAKSHADWEEP  2015    2.2   0.5    3.7   87.1  133.1  296.6   \n",
       "\n",
       "       JUL    AUG    SEP    OCT    NOV    DEC  ANNUAL  \n",
       "0    182.7  219.6  546.5  374.7   76.1   74.4  2404.7  \n",
       "1    463.2  465.3  486.4  209.4  223.9   85.6  2748.0  \n",
       "2    511.2  482.1  332.0  243.7  321.1   72.0  3374.8  \n",
       "3    297.3  351.5  344.7  272.8   66.2   48.0  2538.6  \n",
       "4    521.9  563.8  263.3  402.4  268.5  246.4  3157.1  \n",
       "..     ...    ...    ...    ...    ...    ...     ...  \n",
       "355  350.2  254.0  255.2  117.4  184.3   14.9  1533.7  \n",
       "356  231.5  381.2  179.8  145.9   12.4    8.8  1405.5  \n",
       "357  296.4  154.4  180.0   72.8   78.1   26.7  1426.3  \n",
       "358  116.1  466.1  132.2  169.2   59.0   62.3  1395.0  \n",
       "359  257.5  146.4  160.4  165.4  231.0  159.0  1642.9  \n",
       "\n",
       "[360 rows x 15 columns]"
      ]
     },
     "execution_count": 27,
     "metadata": {},
     "output_type": "execute_result"
    }
   ],
   "source": [
    "rain_df"
   ]
  },
  {
   "cell_type": "code",
   "execution_count": 28,
   "metadata": {},
   "outputs": [
    {
     "data": {
      "text/html": [
       "<div>\n",
       "<style scoped>\n",
       "    .dataframe tbody tr th:only-of-type {\n",
       "        vertical-align: middle;\n",
       "    }\n",
       "\n",
       "    .dataframe tbody tr th {\n",
       "        vertical-align: top;\n",
       "    }\n",
       "\n",
       "    .dataframe thead th {\n",
       "        text-align: right;\n",
       "    }\n",
       "</style>\n",
       "<table border=\"1\" class=\"dataframe\">\n",
       "  <thead>\n",
       "    <tr style=\"text-align: right;\">\n",
       "      <th></th>\n",
       "      <th>SUBDIVISION</th>\n",
       "      <th>YEAR</th>\n",
       "      <th>ANNUAL</th>\n",
       "      <th>Jan-Feb</th>\n",
       "      <th>Mar-May</th>\n",
       "      <th>Jun-Sep</th>\n",
       "      <th>Oct-Dec</th>\n",
       "    </tr>\n",
       "  </thead>\n",
       "  <tbody>\n",
       "    <tr>\n",
       "      <th>0</th>\n",
       "      <td>ANDAMAN &amp; NICOBAR ISLANDS</td>\n",
       "      <td>2006</td>\n",
       "      <td>2404.7</td>\n",
       "      <td>30.7</td>\n",
       "      <td>534.0</td>\n",
       "      <td>1314.9</td>\n",
       "      <td>525.2</td>\n",
       "    </tr>\n",
       "    <tr>\n",
       "      <th>1</th>\n",
       "      <td>ANDAMAN &amp; NICOBAR ISLANDS</td>\n",
       "      <td>2007</td>\n",
       "      <td>2748.0</td>\n",
       "      <td>6.5</td>\n",
       "      <td>429.6</td>\n",
       "      <td>1793.1</td>\n",
       "      <td>518.9</td>\n",
       "    </tr>\n",
       "    <tr>\n",
       "      <th>2</th>\n",
       "      <td>ANDAMAN &amp; NICOBAR ISLANDS</td>\n",
       "      <td>2008</td>\n",
       "      <td>3374.8</td>\n",
       "      <td>77.6</td>\n",
       "      <td>877.3</td>\n",
       "      <td>1783.1</td>\n",
       "      <td>636.8</td>\n",
       "    </tr>\n",
       "    <tr>\n",
       "      <th>3</th>\n",
       "      <td>ANDAMAN &amp; NICOBAR ISLANDS</td>\n",
       "      <td>2009</td>\n",
       "      <td>2538.6</td>\n",
       "      <td>30.8</td>\n",
       "      <td>493.7</td>\n",
       "      <td>1627.1</td>\n",
       "      <td>386.9</td>\n",
       "    </tr>\n",
       "    <tr>\n",
       "      <th>4</th>\n",
       "      <td>ANDAMAN &amp; NICOBAR ISLANDS</td>\n",
       "      <td>2010</td>\n",
       "      <td>3157.1</td>\n",
       "      <td>109.8</td>\n",
       "      <td>332.2</td>\n",
       "      <td>1797.8</td>\n",
       "      <td>917.3</td>\n",
       "    </tr>\n",
       "    <tr>\n",
       "      <th>...</th>\n",
       "      <td>...</td>\n",
       "      <td>...</td>\n",
       "      <td>...</td>\n",
       "      <td>...</td>\n",
       "      <td>...</td>\n",
       "      <td>...</td>\n",
       "      <td>...</td>\n",
       "    </tr>\n",
       "    <tr>\n",
       "      <th>355</th>\n",
       "      <td>LAKSHADWEEP</td>\n",
       "      <td>2011</td>\n",
       "      <td>1533.7</td>\n",
       "      <td>7.9</td>\n",
       "      <td>196.2</td>\n",
       "      <td>1013.0</td>\n",
       "      <td>316.6</td>\n",
       "    </tr>\n",
       "    <tr>\n",
       "      <th>356</th>\n",
       "      <td>LAKSHADWEEP</td>\n",
       "      <td>2012</td>\n",
       "      <td>1405.5</td>\n",
       "      <td>19.3</td>\n",
       "      <td>99.6</td>\n",
       "      <td>1119.5</td>\n",
       "      <td>167.1</td>\n",
       "    </tr>\n",
       "    <tr>\n",
       "      <th>357</th>\n",
       "      <td>LAKSHADWEEP</td>\n",
       "      <td>2013</td>\n",
       "      <td>1426.3</td>\n",
       "      <td>60.6</td>\n",
       "      <td>131.1</td>\n",
       "      <td>1057.0</td>\n",
       "      <td>177.6</td>\n",
       "    </tr>\n",
       "    <tr>\n",
       "      <th>358</th>\n",
       "      <td>LAKSHADWEEP</td>\n",
       "      <td>2014</td>\n",
       "      <td>1395.0</td>\n",
       "      <td>69.3</td>\n",
       "      <td>76.7</td>\n",
       "      <td>958.5</td>\n",
       "      <td>290.5</td>\n",
       "    </tr>\n",
       "    <tr>\n",
       "      <th>359</th>\n",
       "      <td>LAKSHADWEEP</td>\n",
       "      <td>2015</td>\n",
       "      <td>1642.9</td>\n",
       "      <td>2.7</td>\n",
       "      <td>223.9</td>\n",
       "      <td>860.9</td>\n",
       "      <td>555.4</td>\n",
       "    </tr>\n",
       "  </tbody>\n",
       "</table>\n",
       "<p>360 rows × 7 columns</p>\n",
       "</div>"
      ],
      "text/plain": [
       "                   SUBDIVISION  YEAR  ANNUAL  Jan-Feb  Mar-May  Jun-Sep  \\\n",
       "0    ANDAMAN & NICOBAR ISLANDS  2006  2404.7     30.7    534.0   1314.9   \n",
       "1    ANDAMAN & NICOBAR ISLANDS  2007  2748.0      6.5    429.6   1793.1   \n",
       "2    ANDAMAN & NICOBAR ISLANDS  2008  3374.8     77.6    877.3   1783.1   \n",
       "3    ANDAMAN & NICOBAR ISLANDS  2009  2538.6     30.8    493.7   1627.1   \n",
       "4    ANDAMAN & NICOBAR ISLANDS  2010  3157.1    109.8    332.2   1797.8   \n",
       "..                         ...   ...     ...      ...      ...      ...   \n",
       "355                LAKSHADWEEP  2011  1533.7      7.9    196.2   1013.0   \n",
       "356                LAKSHADWEEP  2012  1405.5     19.3     99.6   1119.5   \n",
       "357                LAKSHADWEEP  2013  1426.3     60.6    131.1   1057.0   \n",
       "358                LAKSHADWEEP  2014  1395.0     69.3     76.7    958.5   \n",
       "359                LAKSHADWEEP  2015  1642.9      2.7    223.9    860.9   \n",
       "\n",
       "     Oct-Dec  \n",
       "0      525.2  \n",
       "1      518.9  \n",
       "2      636.8  \n",
       "3      386.9  \n",
       "4      917.3  \n",
       "..       ...  \n",
       "355    316.6  \n",
       "356    167.1  \n",
       "357    177.6  \n",
       "358    290.5  \n",
       "359    555.4  \n",
       "\n",
       "[360 rows x 7 columns]"
      ]
     },
     "execution_count": 28,
     "metadata": {},
     "output_type": "execute_result"
    }
   ],
   "source": [
    "rain_sec_df"
   ]
  },
  {
   "cell_type": "markdown",
   "metadata": {},
   "source": [
    "Displaying the number of rows and columns in respective dataframes"
   ]
  },
  {
   "cell_type": "code",
   "execution_count": 29,
   "metadata": {},
   "outputs": [
    {
     "data": {
      "text/plain": [
       "(360, 15)"
      ]
     },
     "execution_count": 29,
     "metadata": {},
     "output_type": "execute_result"
    }
   ],
   "source": [
    "rain_df.shape"
   ]
  },
  {
   "cell_type": "code",
   "execution_count": 30,
   "metadata": {},
   "outputs": [
    {
     "data": {
      "text/plain": [
       "(360, 7)"
      ]
     },
     "execution_count": 30,
     "metadata": {},
     "output_type": "execute_result"
    }
   ],
   "source": [
    "rain_sec_df.shape"
   ]
  },
  {
   "cell_type": "code",
   "execution_count": 31,
   "metadata": {},
   "outputs": [],
   "source": [
    "import jovian"
   ]
  },
  {
   "cell_type": "code",
   "execution_count": 32,
   "metadata": {},
   "outputs": [
    {
     "data": {
      "application/javascript": [
       "window.require && require([\"base/js/namespace\"],function(Jupyter){Jupyter.notebook.save_checkpoint()})"
      ],
      "text/plain": [
       "<IPython.core.display.Javascript object>"
      ]
     },
     "metadata": {},
     "output_type": "display_data"
    },
    {
     "name": "stdout",
     "output_type": "stream",
     "text": [
      "[jovian] Attempting to save notebook..\u001b[0m\n",
      "[jovian] Updating notebook \"chaudhari90009/rainfall-in-india-2005-2015\" on https://jovian.ml/\u001b[0m\n",
      "[jovian] Uploading notebook..\u001b[0m\n",
      "[jovian] Capturing environment..\u001b[0m\n",
      "[jovian] Committed successfully! https://jovian.ml/chaudhari90009/rainfall-in-india-2005-2015\u001b[0m\n"
     ]
    },
    {
     "data": {
      "text/plain": [
       "'https://jovian.ml/chaudhari90009/rainfall-in-india-2005-2015'"
      ]
     },
     "execution_count": 32,
     "metadata": {},
     "output_type": "execute_result"
    }
   ],
   "source": [
    "jovian.commit(project=project_name, files=[\"rainfall_in_india_1901-2015.csv\"])"
   ]
  },
  {
   "cell_type": "markdown",
   "metadata": {},
   "source": [
    "## Exploratory Analysis and Visualization\n",
    "\n",
    "Grouping and merging  the columns of dataframe to plot some interesting insights using matplotlib and seaborn.\n",
    "\n"
   ]
  },
  {
   "cell_type": "markdown",
   "metadata": {},
   "source": [
    "Importing`matplotlib.pyplot` and `seaborn`."
   ]
  },
  {
   "cell_type": "code",
   "execution_count": 33,
   "metadata": {},
   "outputs": [],
   "source": [
    "import seaborn as sns\n",
    "import matplotlib\n",
    "import matplotlib.pyplot as plt\n",
    "%matplotlib inline\n",
    "\n",
    "sns.set_style('darkgrid')\n",
    "matplotlib.rcParams['font.size'] = 14\n",
    "matplotlib.rcParams['figure.figsize'] = (9, 5)\n",
    "matplotlib.rcParams['figure.facecolor'] = '#00000000'"
   ]
  },
  {
   "cell_type": "markdown",
   "metadata": {},
   "source": [
    "1] Grouping data by SUBDIVISION , Calculating mean of rainfall over the years , Displaying the values in descending order"
   ]
  },
  {
   "cell_type": "code",
   "execution_count": 34,
   "metadata": {},
   "outputs": [],
   "source": [
    "first_df=rain_df.loc[:,rain_df.columns!='YEAR'].groupby('SUBDIVISION',as_index=False).mean()\n",
    "first_df=first_df.sort_values('ANNUAL',ascending=False)"
   ]
  },
  {
   "cell_type": "code",
   "execution_count": 35,
   "metadata": {},
   "outputs": [
    {
     "data": {
      "image/png": "[encoded data removed]",
      "text/plain": [
       "<Figure size 1080x720 with 1 Axes>"
      ]
     },
     "metadata": {
      "needs_background": "light"
     },
     "output_type": "display_data"
    }
   ],
   "source": [
    "plt.figure(figsize=(15,10))\n",
    "sns.barplot(first_df.ANNUAL,first_df.SUBDIVISION);"
   ]
  },
  {
   "cell_type": "markdown",
   "metadata": {},
   "source": [
    "The above plot shows the annual rainfall in different subdivisions of india."
   ]
  },
  {
   "cell_type": "markdown",
   "metadata": {},
   "source": [
    " "
   ]
  },
  {
   "cell_type": "markdown",
   "metadata": {},
   "source": [
    "2] Grouping data by YEAR , Calculating rainfall over the entire country"
   ]
  },
  {
   "cell_type": "code",
   "execution_count": 36,
   "metadata": {},
   "outputs": [],
   "source": [
    "second_df=rain_df.loc[:,rain_df.columns!='SUBDIVISION'].groupby('YEAR',as_index=False).sum()\n",
    "second_df=second_df.sort_values('ANNUAL',ascending=False)"
   ]
  },
  {
   "cell_type": "code",
   "execution_count": 37,
   "metadata": {},
   "outputs": [
    {
     "data": {
      "image/png": "[encoded data removed]",
      "text/plain": [
       "<Figure size 504x360 with 1 Axes>"
      ]
     },
     "metadata": {
      "needs_background": "light"
     },
     "output_type": "display_data"
    }
   ],
   "source": [
    "plt.figure(figsize=(7,5))\n",
    "sns.barplot(second_df.YEAR,second_df.ANNUAL);"
   ]
  },
  {
   "cell_type": "markdown",
   "metadata": {},
   "source": [
    "The above plot shows the annual rainfall in India over the years."
   ]
  },
  {
   "cell_type": "markdown",
   "metadata": {},
   "source": [
    " "
   ]
  },
  {
   "cell_type": "markdown",
   "metadata": {},
   "source": [
    "3] Comparing the rainfall over the two Indian islands : ANDAMAN & NICOBAR ISLANDS & LAKSHADWEEP"
   ]
  },
  {
   "cell_type": "code",
   "execution_count": 58,
   "metadata": {},
   "outputs": [],
   "source": [
    "island1_df=rain_df.loc[rain_df.SUBDIVISION=='ANDAMAN & NICOBAR ISLANDS',:]"
   ]
  },
  {
   "cell_type": "code",
   "execution_count": 39,
   "metadata": {},
   "outputs": [],
   "source": [
    "island2_df=rain_df.loc[rain_df.SUBDIVISION=='LAKSHADWEEP',:]"
   ]
  },
  {
   "cell_type": "code",
   "execution_count": 40,
   "metadata": {},
   "outputs": [
    {
     "data": {
      "image/png": "[encoded data removed]",
      "text/plain": [
       "<Figure size 720x360 with 1 Axes>"
      ]
     },
     "metadata": {
      "needs_background": "light"
     },
     "output_type": "display_data"
    }
   ],
   "source": [
    "ax=island1_df.plot(x='YEAR', y='ANNUAL', figsize=(10,5), grid=True)\n",
    "island2_df.plot(ax=ax, x='YEAR', y='ANNUAL', figsize=(10,5), grid=True,linestyle=\"--\")\n",
    "ax.legend([\"ANDAMAN & NICOBAR ISLANDS\", \"LAKSHADWEEP\"]);"
   ]
  },
  {
   "cell_type": "markdown",
   "metadata": {},
   "source": [
    "The above plot compares the rainfall in the two Indian islands. "
   ]
  },
  {
   "cell_type": "markdown",
   "metadata": {},
   "source": [
    "Clearly, we can see that Andaman & Nicobar islands receive more rainfall than Lakshadweep island."
   ]
  },
  {
   "cell_type": "markdown",
   "metadata": {},
   "source": [
    " "
   ]
  },
  {
   "cell_type": "markdown",
   "metadata": {},
   "source": [
    "4] Comparing the rainfall over the country throughout different months over the years"
   ]
  },
  {
   "cell_type": "code",
   "execution_count": 41,
   "metadata": {},
   "outputs": [
    {
     "data": {
      "image/png": "[encoded data removed]",
      "text/plain": [
       "<Figure size 720x360 with 1 Axes>"
      ]
     },
     "metadata": {
      "needs_background": "light"
     },
     "output_type": "display_data"
    }
   ],
   "source": [
    "rain_df[['YEAR', 'JAN', 'FEB', 'MAR', 'APR', 'MAY', 'JUN', 'JUL',\n",
    "       'AUG', 'SEP', 'OCT', 'NOV', 'DEC']].groupby(\"YEAR\").sum().plot(figsize=(10,5));\n"
   ]
  },
  {
   "cell_type": "markdown",
   "metadata": {},
   "source": [
    "The above plot compares the rainfall over India in different months over the years."
   ]
  },
  {
   "cell_type": "markdown",
   "metadata": {},
   "source": [
    "Clearly, the month of July receives the highest rainfall."
   ]
  },
  {
   "cell_type": "markdown",
   "metadata": {},
   "source": [
    " "
   ]
  },
  {
   "cell_type": "markdown",
   "metadata": {},
   "source": [
    "5] Comparing the rainfall over the country by grouping months over the years"
   ]
  },
  {
   "cell_type": "code",
   "execution_count": 42,
   "metadata": {
    "scrolled": true
   },
   "outputs": [
    {
     "data": {
      "image/png": "[encoded data removed]",
      "text/plain": [
       "<Figure size 720x360 with 1 Axes>"
      ]
     },
     "metadata": {
      "needs_background": "light"
     },
     "output_type": "display_data"
    }
   ],
   "source": [
    "rain_sec_df[['YEAR','Jan-Feb', 'Mar-May',\n",
    "       'Jun-Sep', 'Oct-Dec']].groupby(\"YEAR\").sum().plot(figsize=(10,5));"
   ]
  },
  {
   "cell_type": "markdown",
   "metadata": {},
   "source": [
    " "
   ]
  },
  {
   "cell_type": "markdown",
   "metadata": {},
   "source": [
    "6] Comparing rainfall between the states of highest rainfall and lowest rainfall : COASTAL KARNATAKA & WEST RAJASTHAN"
   ]
  },
  {
   "cell_type": "code",
   "execution_count": 43,
   "metadata": {},
   "outputs": [],
   "source": [
    "highest_rainfall_df=rain_df.loc[rain_df.SUBDIVISION=='COASTAL KARNATAKA',:]\n",
    "lowest_rainfall_df=rain_df.loc[rain_df.SUBDIVISION=='WEST RAJASTHAN',:]"
   ]
  },
  {
   "cell_type": "code",
   "execution_count": 44,
   "metadata": {},
   "outputs": [
    {
     "data": {
      "image/png": "[encoded data removed]",
      "text/plain": [
       "<Figure size 576x360 with 1 Axes>"
      ]
     },
     "metadata": {
      "needs_background": "light"
     },
     "output_type": "display_data"
    }
   ],
   "source": [
    "ax=highest_rainfall_df.plot(x='YEAR', y='ANNUAL', figsize=(8,5), grid=True)\n",
    "lowest_rainfall_df.plot(ax=ax, x='YEAR', y='ANNUAL', figsize=(8,5), grid=True,linestyle=\"--\")\n",
    "ax.legend([\"COASTAL KARNATAKA\", \"WEST RAJASTHAN\"]);"
   ]
  },
  {
   "cell_type": "markdown",
   "metadata": {},
   "source": [
    " "
   ]
  },
  {
   "cell_type": "markdown",
   "metadata": {},
   "source": [
    "7] Understanding the rainfall pattern in the subdivision receiving highest rainfall using a heatmap."
   ]
  },
  {
   "cell_type": "code",
   "execution_count": 45,
   "metadata": {},
   "outputs": [],
   "source": [
    "highest_rainfall_subd_df=rain_df.loc[rain_df.SUBDIVISION=='COASTAL KARNATAKA',:]\n",
    "highest_rainfall_subd_df=highest_rainfall_subd_df.drop(['SUBDIVISION'], axis=1)\n",
    "highest_rainfall_subd_df.reset_index(drop=True, inplace=True)"
   ]
  },
  {
   "cell_type": "code",
   "execution_count": 46,
   "metadata": {},
   "outputs": [
    {
     "data": {
      "text/plain": [
       "<AxesSubplot:>"
      ]
     },
     "execution_count": 46,
     "metadata": {},
     "output_type": "execute_result"
    },
    {
     "data": {
      "image/png": "[encoded data removed]",
      "text/plain": [
       "<Figure size 648x360 with 2 Axes>"
      ]
     },
     "metadata": {
      "needs_background": "light"
     },
     "output_type": "display_data"
    }
   ],
   "source": [
    "index=list([2006,2007,2008,2009,2010,2011,2012,2013,2014,2015])\n",
    "cols = ['JAN', 'FEB', 'MAR', 'APR', 'MAY', 'JUN', 'JUL',\n",
    "       'AUG', 'SEP', 'OCT', 'NOV', 'DEC']\n",
    "highest_rainfall_subd_df = pd.DataFrame(abs(np.random.randn(10,12)),index=index, columns=cols)\n",
    "highest_rainfall_subd_df.style.background_gradient(cmap='Blues')\n",
    "sns.heatmap(highest_rainfall_subd_df, annot=False)"
   ]
  },
  {
   "cell_type": "markdown",
   "metadata": {},
   "source": [
    "Let us save and upload our work to Jovian before continuing"
   ]
  },
  {
   "cell_type": "code",
   "execution_count": 47,
   "metadata": {},
   "outputs": [],
   "source": [
    "import jovian"
   ]
  },
  {
   "cell_type": "code",
   "execution_count": 48,
   "metadata": {},
   "outputs": [
    {
     "data": {
      "application/javascript": [
       "window.require && require([\"base/js/namespace\"],function(Jupyter){Jupyter.notebook.save_checkpoint()})"
      ],
      "text/plain": [
       "<IPython.core.display.Javascript object>"
      ]
     },
     "metadata": {},
     "output_type": "display_data"
    },
    {
     "name": "stdout",
     "output_type": "stream",
     "text": [
      "[jovian] Attempting to save notebook..\u001b[0m\n",
      "[jovian] Updating notebook \"chaudhari90009/rainfall-in-india-2005-2015\" on https://jovian.ml/\u001b[0m\n",
      "[jovian] Uploading notebook..\u001b[0m\n",
      "[jovian] Capturing environment..\u001b[0m\n",
      "[jovian] Committed successfully! https://jovian.ml/chaudhari90009/rainfall-in-india-2005-2015\u001b[0m\n"
     ]
    },
    {
     "data": {
      "text/plain": [
       "'https://jovian.ml/chaudhari90009/rainfall-in-india-2005-2015'"
      ]
     },
     "execution_count": 48,
     "metadata": {},
     "output_type": "execute_result"
    }
   ],
   "source": [
    "jovian.commit(project=project_name, files=[\"rainfall_in_india_1901-2015.csv\"])"
   ]
  },
  {
   "cell_type": "markdown",
   "metadata": {},
   "source": [
    "## Asking and Answering Questions\n",
    "\n",
    "Some interesting questions to understand and analyse the data more clearly.\n",
    "\n"
   ]
  },
  {
   "cell_type": "markdown",
   "metadata": {},
   "source": [
    "Q1] Which 5 subdivisions receive the highest annual rainfall?\n"
   ]
  },
  {
   "cell_type": "code",
   "execution_count": 49,
   "metadata": {},
   "outputs": [
    {
     "data": {
      "text/html": [
       "<div>\n",
       "<style scoped>\n",
       "    .dataframe tbody tr th:only-of-type {\n",
       "        vertical-align: middle;\n",
       "    }\n",
       "\n",
       "    .dataframe tbody tr th {\n",
       "        vertical-align: top;\n",
       "    }\n",
       "\n",
       "    .dataframe thead th {\n",
       "        text-align: right;\n",
       "    }\n",
       "</style>\n",
       "<table border=\"1\" class=\"dataframe\">\n",
       "  <thead>\n",
       "    <tr style=\"text-align: right;\">\n",
       "      <th></th>\n",
       "      <th>SUBDIVISION</th>\n",
       "      <th>JAN</th>\n",
       "      <th>FEB</th>\n",
       "      <th>MAR</th>\n",
       "      <th>APR</th>\n",
       "      <th>MAY</th>\n",
       "      <th>JUN</th>\n",
       "      <th>JUL</th>\n",
       "      <th>AUG</th>\n",
       "      <th>SEP</th>\n",
       "      <th>OCT</th>\n",
       "      <th>NOV</th>\n",
       "      <th>DEC</th>\n",
       "      <th>ANNUAL</th>\n",
       "    </tr>\n",
       "  </thead>\n",
       "  <tbody>\n",
       "    <tr>\n",
       "      <th>6</th>\n",
       "      <td>COASTAL KARNATAKA</td>\n",
       "      <td>2.92</td>\n",
       "      <td>5.13</td>\n",
       "      <td>27.24</td>\n",
       "      <td>45.05</td>\n",
       "      <td>116.68</td>\n",
       "      <td>780.04</td>\n",
       "      <td>1120.88</td>\n",
       "      <td>811.12</td>\n",
       "      <td>436.29</td>\n",
       "      <td>203.24</td>\n",
       "      <td>88.87</td>\n",
       "      <td>12.96</td>\n",
       "      <td>3594.765</td>\n",
       "    </tr>\n",
       "    <tr>\n",
       "      <th>17</th>\n",
       "      <td>KONKAN &amp; GOA</td>\n",
       "      <td>0.85</td>\n",
       "      <td>1.08</td>\n",
       "      <td>8.05</td>\n",
       "      <td>1.36</td>\n",
       "      <td>32.34</td>\n",
       "      <td>695.28</td>\n",
       "      <td>1096.14</td>\n",
       "      <td>712.59</td>\n",
       "      <td>446.36</td>\n",
       "      <td>143.77</td>\n",
       "      <td>30.99</td>\n",
       "      <td>1.71</td>\n",
       "      <td>3170.560</td>\n",
       "    </tr>\n",
       "    <tr>\n",
       "      <th>0</th>\n",
       "      <td>ANDAMAN &amp; NICOBAR ISLANDS</td>\n",
       "      <td>77.89</td>\n",
       "      <td>28.22</td>\n",
       "      <td>56.44</td>\n",
       "      <td>94.62</td>\n",
       "      <td>380.86</td>\n",
       "      <td>466.59</td>\n",
       "      <td>423.81</td>\n",
       "      <td>403.17</td>\n",
       "      <td>500.87</td>\n",
       "      <td>303.55</td>\n",
       "      <td>219.88</td>\n",
       "      <td>127.48</td>\n",
       "      <td>3083.360</td>\n",
       "    </tr>\n",
       "    <tr>\n",
       "      <th>16</th>\n",
       "      <td>KERALA</td>\n",
       "      <td>7.08</td>\n",
       "      <td>15.18</td>\n",
       "      <td>57.22</td>\n",
       "      <td>121.55</td>\n",
       "      <td>196.89</td>\n",
       "      <td>604.34</td>\n",
       "      <td>664.27</td>\n",
       "      <td>424.66</td>\n",
       "      <td>349.32</td>\n",
       "      <td>306.18</td>\n",
       "      <td>167.57</td>\n",
       "      <td>32.42</td>\n",
       "      <td>2946.570</td>\n",
       "    </tr>\n",
       "    <tr>\n",
       "      <th>1</th>\n",
       "      <td>ARUNACHAL PRADESH</td>\n",
       "      <td>28.08</td>\n",
       "      <td>62.38</td>\n",
       "      <td>114.55</td>\n",
       "      <td>248.02</td>\n",
       "      <td>254.04</td>\n",
       "      <td>452.11</td>\n",
       "      <td>452.88</td>\n",
       "      <td>374.22</td>\n",
       "      <td>362.38</td>\n",
       "      <td>103.99</td>\n",
       "      <td>29.39</td>\n",
       "      <td>15.73</td>\n",
       "      <td>2497.790</td>\n",
       "    </tr>\n",
       "  </tbody>\n",
       "</table>\n",
       "</div>"
      ],
      "text/plain": [
       "                  SUBDIVISION    JAN    FEB     MAR     APR     MAY     JUN  \\\n",
       "6           COASTAL KARNATAKA   2.92   5.13   27.24   45.05  116.68  780.04   \n",
       "17               KONKAN & GOA   0.85   1.08    8.05    1.36   32.34  695.28   \n",
       "0   ANDAMAN & NICOBAR ISLANDS  77.89  28.22   56.44   94.62  380.86  466.59   \n",
       "16                     KERALA   7.08  15.18   57.22  121.55  196.89  604.34   \n",
       "1           ARUNACHAL PRADESH  28.08  62.38  114.55  248.02  254.04  452.11   \n",
       "\n",
       "        JUL     AUG     SEP     OCT     NOV     DEC    ANNUAL  \n",
       "6   1120.88  811.12  436.29  203.24   88.87   12.96  3594.765  \n",
       "17  1096.14  712.59  446.36  143.77   30.99    1.71  3170.560  \n",
       "0    423.81  403.17  500.87  303.55  219.88  127.48  3083.360  \n",
       "16   664.27  424.66  349.32  306.18  167.57   32.42  2946.570  \n",
       "1    452.88  374.22  362.38  103.99   29.39   15.73  2497.790  "
      ]
     },
     "execution_count": 49,
     "metadata": {},
     "output_type": "execute_result"
    }
   ],
   "source": [
    "first_df.head(5)"
   ]
  },
  {
   "cell_type": "markdown",
   "metadata": {},
   "source": [
    " "
   ]
  },
  {
   "cell_type": "markdown",
   "metadata": {},
   "source": [
    "Q2] Which 5 subdivisions receive the lowest annual rainfall?"
   ]
  },
  {
   "cell_type": "code",
   "execution_count": 50,
   "metadata": {},
   "outputs": [
    {
     "data": {
      "text/html": [
       "<div>\n",
       "<style scoped>\n",
       "    .dataframe tbody tr th:only-of-type {\n",
       "        vertical-align: middle;\n",
       "    }\n",
       "\n",
       "    .dataframe tbody tr th {\n",
       "        vertical-align: top;\n",
       "    }\n",
       "\n",
       "    .dataframe thead th {\n",
       "        text-align: right;\n",
       "    }\n",
       "</style>\n",
       "<table border=\"1\" class=\"dataframe\">\n",
       "  <thead>\n",
       "    <tr style=\"text-align: right;\">\n",
       "      <th></th>\n",
       "      <th>SUBDIVISION</th>\n",
       "      <th>JAN</th>\n",
       "      <th>FEB</th>\n",
       "      <th>MAR</th>\n",
       "      <th>APR</th>\n",
       "      <th>MAY</th>\n",
       "      <th>JUN</th>\n",
       "      <th>JUL</th>\n",
       "      <th>AUG</th>\n",
       "      <th>SEP</th>\n",
       "      <th>OCT</th>\n",
       "      <th>NOV</th>\n",
       "      <th>DEC</th>\n",
       "      <th>ANNUAL</th>\n",
       "    </tr>\n",
       "  </thead>\n",
       "  <tbody>\n",
       "    <tr>\n",
       "      <th>26</th>\n",
       "      <td>SAURASHTRA &amp; KUTCH</td>\n",
       "      <td>0.31</td>\n",
       "      <td>0.36</td>\n",
       "      <td>0.67</td>\n",
       "      <td>1.18</td>\n",
       "      <td>0.34</td>\n",
       "      <td>72.15</td>\n",
       "      <td>231.88</td>\n",
       "      <td>174.57</td>\n",
       "      <td>153.11</td>\n",
       "      <td>6.45</td>\n",
       "      <td>7.10</td>\n",
       "      <td>0.93</td>\n",
       "      <td>649.09</td>\n",
       "    </tr>\n",
       "    <tr>\n",
       "      <th>35</th>\n",
       "      <td>WEST UTTAR PRADESH</td>\n",
       "      <td>12.32</td>\n",
       "      <td>20.13</td>\n",
       "      <td>15.72</td>\n",
       "      <td>5.34</td>\n",
       "      <td>14.31</td>\n",
       "      <td>84.29</td>\n",
       "      <td>199.62</td>\n",
       "      <td>173.90</td>\n",
       "      <td>93.58</td>\n",
       "      <td>17.15</td>\n",
       "      <td>3.57</td>\n",
       "      <td>4.10</td>\n",
       "      <td>644.09</td>\n",
       "    </tr>\n",
       "    <tr>\n",
       "      <th>24</th>\n",
       "      <td>PUNJAB</td>\n",
       "      <td>15.63</td>\n",
       "      <td>24.51</td>\n",
       "      <td>22.72</td>\n",
       "      <td>15.23</td>\n",
       "      <td>15.18</td>\n",
       "      <td>70.93</td>\n",
       "      <td>128.46</td>\n",
       "      <td>146.81</td>\n",
       "      <td>87.36</td>\n",
       "      <td>7.72</td>\n",
       "      <td>2.77</td>\n",
       "      <td>7.80</td>\n",
       "      <td>545.12</td>\n",
       "    </tr>\n",
       "    <tr>\n",
       "      <th>12</th>\n",
       "      <td>HARYANA DELHI &amp; CHANDIGARH</td>\n",
       "      <td>6.95</td>\n",
       "      <td>19.56</td>\n",
       "      <td>18.82</td>\n",
       "      <td>9.48</td>\n",
       "      <td>19.63</td>\n",
       "      <td>60.33</td>\n",
       "      <td>108.94</td>\n",
       "      <td>116.63</td>\n",
       "      <td>93.03</td>\n",
       "      <td>4.34</td>\n",
       "      <td>1.64</td>\n",
       "      <td>3.58</td>\n",
       "      <td>462.92</td>\n",
       "    </tr>\n",
       "    <tr>\n",
       "      <th>34</th>\n",
       "      <td>WEST RAJASTHAN</td>\n",
       "      <td>1.77</td>\n",
       "      <td>7.63</td>\n",
       "      <td>8.63</td>\n",
       "      <td>7.38</td>\n",
       "      <td>10.58</td>\n",
       "      <td>34.41</td>\n",
       "      <td>97.16</td>\n",
       "      <td>119.86</td>\n",
       "      <td>59.15</td>\n",
       "      <td>2.06</td>\n",
       "      <td>2.24</td>\n",
       "      <td>1.76</td>\n",
       "      <td>352.60</td>\n",
       "    </tr>\n",
       "  </tbody>\n",
       "</table>\n",
       "</div>"
      ],
      "text/plain": [
       "                   SUBDIVISION    JAN    FEB    MAR    APR    MAY    JUN  \\\n",
       "26          SAURASHTRA & KUTCH   0.31   0.36   0.67   1.18   0.34  72.15   \n",
       "35          WEST UTTAR PRADESH  12.32  20.13  15.72   5.34  14.31  84.29   \n",
       "24                      PUNJAB  15.63  24.51  22.72  15.23  15.18  70.93   \n",
       "12  HARYANA DELHI & CHANDIGARH   6.95  19.56  18.82   9.48  19.63  60.33   \n",
       "34              WEST RAJASTHAN   1.77   7.63   8.63   7.38  10.58  34.41   \n",
       "\n",
       "       JUL     AUG     SEP    OCT   NOV   DEC  ANNUAL  \n",
       "26  231.88  174.57  153.11   6.45  7.10  0.93  649.09  \n",
       "35  199.62  173.90   93.58  17.15  3.57  4.10  644.09  \n",
       "24  128.46  146.81   87.36   7.72  2.77  7.80  545.12  \n",
       "12  108.94  116.63   93.03   4.34  1.64  3.58  462.92  \n",
       "34   97.16  119.86   59.15   2.06  2.24  1.76  352.60  "
      ]
     },
     "execution_count": 50,
     "metadata": {},
     "output_type": "execute_result"
    }
   ],
   "source": [
    "first_df.tail(5)"
   ]
  },
  {
   "cell_type": "markdown",
   "metadata": {},
   "source": [
    " "
   ]
  },
  {
   "cell_type": "markdown",
   "metadata": {},
   "source": [
    "Q3] In which year did India receive highest annual rainfall?"
   ]
  },
  {
   "cell_type": "code",
   "execution_count": 51,
   "metadata": {},
   "outputs": [
    {
     "data": {
      "text/html": [
       "<div>\n",
       "<style scoped>\n",
       "    .dataframe tbody tr th:only-of-type {\n",
       "        vertical-align: middle;\n",
       "    }\n",
       "\n",
       "    .dataframe tbody tr th {\n",
       "        vertical-align: top;\n",
       "    }\n",
       "\n",
       "    .dataframe thead th {\n",
       "        text-align: right;\n",
       "    }\n",
       "</style>\n",
       "<table border=\"1\" class=\"dataframe\">\n",
       "  <thead>\n",
       "    <tr style=\"text-align: right;\">\n",
       "      <th></th>\n",
       "      <th>YEAR</th>\n",
       "      <th>JAN</th>\n",
       "      <th>FEB</th>\n",
       "      <th>MAR</th>\n",
       "      <th>APR</th>\n",
       "      <th>MAY</th>\n",
       "      <th>JUN</th>\n",
       "      <th>JUL</th>\n",
       "      <th>AUG</th>\n",
       "      <th>SEP</th>\n",
       "      <th>OCT</th>\n",
       "      <th>NOV</th>\n",
       "      <th>DEC</th>\n",
       "      <th>ANNUAL</th>\n",
       "    </tr>\n",
       "  </thead>\n",
       "  <tbody>\n",
       "    <tr>\n",
       "      <th>1</th>\n",
       "      <td>2007</td>\n",
       "      <td>87.7</td>\n",
       "      <td>1253.9</td>\n",
       "      <td>1031.5</td>\n",
       "      <td>1522.6</td>\n",
       "      <td>2596.2</td>\n",
       "      <td>9734.4</td>\n",
       "      <td>13069.8</td>\n",
       "      <td>11178.0</td>\n",
       "      <td>9742.0</td>\n",
       "      <td>2743.8</td>\n",
       "      <td>864.1</td>\n",
       "      <td>682.3</td>\n",
       "      <td>54506.4</td>\n",
       "    </tr>\n",
       "  </tbody>\n",
       "</table>\n",
       "</div>"
      ],
      "text/plain": [
       "   YEAR   JAN     FEB     MAR     APR     MAY     JUN      JUL      AUG  \\\n",
       "1  2007  87.7  1253.9  1031.5  1522.6  2596.2  9734.4  13069.8  11178.0   \n",
       "\n",
       "      SEP     OCT    NOV    DEC   ANNUAL  \n",
       "1  9742.0  2743.8  864.1  682.3  54506.4  "
      ]
     },
     "execution_count": 51,
     "metadata": {},
     "output_type": "execute_result"
    }
   ],
   "source": [
    "second_df.sort_values('ANNUAL',ascending=False)\n",
    "second_df.head(1)"
   ]
  },
  {
   "cell_type": "markdown",
   "metadata": {},
   "source": [
    " "
   ]
  },
  {
   "cell_type": "markdown",
   "metadata": {},
   "source": [
    "Q4] Which month received the maximum rainfall in India over the years?"
   ]
  },
  {
   "cell_type": "code",
   "execution_count": 52,
   "metadata": {},
   "outputs": [
    {
     "data": {
      "image/png": "[encoded data removed]",
      "text/plain": [
       "<Figure size 720x360 with 1 Axes>"
      ]
     },
     "metadata": {
      "needs_background": "light"
     },
     "output_type": "display_data"
    }
   ],
   "source": [
    "rain_df[['YEAR', 'JAN', 'FEB', 'MAR', 'APR', 'MAY', 'JUN', 'JUL',\n",
    "       'AUG', 'SEP', 'OCT', 'NOV', 'DEC']].groupby(\"YEAR\").sum().plot(figsize=(10,5));\n"
   ]
  },
  {
   "cell_type": "markdown",
   "metadata": {},
   "source": [
    " "
   ]
  },
  {
   "cell_type": "markdown",
   "metadata": {},
   "source": [
    "Q5] Which subdivisions receive above average rainfall?"
   ]
  },
  {
   "cell_type": "code",
   "execution_count": 53,
   "metadata": {},
   "outputs": [],
   "source": [
    "a=first_df['ANNUAL'].mean()"
   ]
  },
  {
   "cell_type": "code",
   "execution_count": 54,
   "metadata": {},
   "outputs": [
    {
     "data": {
      "text/html": [
       "<div>\n",
       "<style scoped>\n",
       "    .dataframe tbody tr th:only-of-type {\n",
       "        vertical-align: middle;\n",
       "    }\n",
       "\n",
       "    .dataframe tbody tr th {\n",
       "        vertical-align: top;\n",
       "    }\n",
       "\n",
       "    .dataframe thead th {\n",
       "        text-align: right;\n",
       "    }\n",
       "</style>\n",
       "<table border=\"1\" class=\"dataframe\">\n",
       "  <thead>\n",
       "    <tr style=\"text-align: right;\">\n",
       "      <th></th>\n",
       "      <th>SUBDIVISION</th>\n",
       "      <th>JAN</th>\n",
       "      <th>FEB</th>\n",
       "      <th>MAR</th>\n",
       "      <th>APR</th>\n",
       "      <th>MAY</th>\n",
       "      <th>JUN</th>\n",
       "      <th>JUL</th>\n",
       "      <th>AUG</th>\n",
       "      <th>SEP</th>\n",
       "      <th>OCT</th>\n",
       "      <th>NOV</th>\n",
       "      <th>DEC</th>\n",
       "      <th>ANNUAL</th>\n",
       "    </tr>\n",
       "  </thead>\n",
       "  <tbody>\n",
       "    <tr>\n",
       "      <th>6</th>\n",
       "      <td>COASTAL KARNATAKA</td>\n",
       "      <td>2.92</td>\n",
       "      <td>5.13</td>\n",
       "      <td>27.24</td>\n",
       "      <td>45.05</td>\n",
       "      <td>116.68</td>\n",
       "      <td>780.04</td>\n",
       "      <td>1120.88</td>\n",
       "      <td>811.12</td>\n",
       "      <td>436.29</td>\n",
       "      <td>203.24</td>\n",
       "      <td>88.87</td>\n",
       "      <td>12.96</td>\n",
       "      <td>3594.765</td>\n",
       "    </tr>\n",
       "    <tr>\n",
       "      <th>17</th>\n",
       "      <td>KONKAN &amp; GOA</td>\n",
       "      <td>0.85</td>\n",
       "      <td>1.08</td>\n",
       "      <td>8.05</td>\n",
       "      <td>1.36</td>\n",
       "      <td>32.34</td>\n",
       "      <td>695.28</td>\n",
       "      <td>1096.14</td>\n",
       "      <td>712.59</td>\n",
       "      <td>446.36</td>\n",
       "      <td>143.77</td>\n",
       "      <td>30.99</td>\n",
       "      <td>1.71</td>\n",
       "      <td>3170.560</td>\n",
       "    </tr>\n",
       "    <tr>\n",
       "      <th>0</th>\n",
       "      <td>ANDAMAN &amp; NICOBAR ISLANDS</td>\n",
       "      <td>77.89</td>\n",
       "      <td>28.22</td>\n",
       "      <td>56.44</td>\n",
       "      <td>94.62</td>\n",
       "      <td>380.86</td>\n",
       "      <td>466.59</td>\n",
       "      <td>423.81</td>\n",
       "      <td>403.17</td>\n",
       "      <td>500.87</td>\n",
       "      <td>303.55</td>\n",
       "      <td>219.88</td>\n",
       "      <td>127.48</td>\n",
       "      <td>3083.360</td>\n",
       "    </tr>\n",
       "    <tr>\n",
       "      <th>16</th>\n",
       "      <td>KERALA</td>\n",
       "      <td>7.08</td>\n",
       "      <td>15.18</td>\n",
       "      <td>57.22</td>\n",
       "      <td>121.55</td>\n",
       "      <td>196.89</td>\n",
       "      <td>604.34</td>\n",
       "      <td>664.27</td>\n",
       "      <td>424.66</td>\n",
       "      <td>349.32</td>\n",
       "      <td>306.18</td>\n",
       "      <td>167.57</td>\n",
       "      <td>32.42</td>\n",
       "      <td>2946.570</td>\n",
       "    </tr>\n",
       "    <tr>\n",
       "      <th>1</th>\n",
       "      <td>ARUNACHAL PRADESH</td>\n",
       "      <td>28.08</td>\n",
       "      <td>62.38</td>\n",
       "      <td>114.55</td>\n",
       "      <td>248.02</td>\n",
       "      <td>254.04</td>\n",
       "      <td>452.11</td>\n",
       "      <td>452.88</td>\n",
       "      <td>374.22</td>\n",
       "      <td>362.38</td>\n",
       "      <td>103.99</td>\n",
       "      <td>29.39</td>\n",
       "      <td>15.73</td>\n",
       "      <td>2497.790</td>\n",
       "    </tr>\n",
       "    <tr>\n",
       "      <th>28</th>\n",
       "      <td>SUB HIMALAYAN WEST BENGAL &amp; SIKKIM</td>\n",
       "      <td>9.13</td>\n",
       "      <td>27.91</td>\n",
       "      <td>55.01</td>\n",
       "      <td>131.94</td>\n",
       "      <td>266.15</td>\n",
       "      <td>484.68</td>\n",
       "      <td>552.68</td>\n",
       "      <td>478.26</td>\n",
       "      <td>352.02</td>\n",
       "      <td>104.78</td>\n",
       "      <td>14.74</td>\n",
       "      <td>5.30</td>\n",
       "      <td>2482.600</td>\n",
       "    </tr>\n",
       "    <tr>\n",
       "      <th>2</th>\n",
       "      <td>ASSAM &amp; MEGHALAYA</td>\n",
       "      <td>8.31</td>\n",
       "      <td>21.55</td>\n",
       "      <td>54.49</td>\n",
       "      <td>187.85</td>\n",
       "      <td>285.04</td>\n",
       "      <td>450.78</td>\n",
       "      <td>425.00</td>\n",
       "      <td>390.41</td>\n",
       "      <td>308.77</td>\n",
       "      <td>110.13</td>\n",
       "      <td>14.26</td>\n",
       "      <td>5.13</td>\n",
       "      <td>2261.700</td>\n",
       "    </tr>\n",
       "    <tr>\n",
       "      <th>21</th>\n",
       "      <td>NAGA MANI MIZO TRIPURA</td>\n",
       "      <td>9.31</td>\n",
       "      <td>14.67</td>\n",
       "      <td>33.55</td>\n",
       "      <td>132.90</td>\n",
       "      <td>260.13</td>\n",
       "      <td>343.20</td>\n",
       "      <td>332.02</td>\n",
       "      <td>345.62</td>\n",
       "      <td>276.77</td>\n",
       "      <td>136.69</td>\n",
       "      <td>17.75</td>\n",
       "      <td>6.06</td>\n",
       "      <td>1908.650</td>\n",
       "    </tr>\n",
       "    <tr>\n",
       "      <th>18</th>\n",
       "      <td>LAKSHADWEEP</td>\n",
       "      <td>15.75</td>\n",
       "      <td>7.94</td>\n",
       "      <td>20.55</td>\n",
       "      <td>36.20</td>\n",
       "      <td>132.28</td>\n",
       "      <td>328.25</td>\n",
       "      <td>281.84</td>\n",
       "      <td>257.42</td>\n",
       "      <td>209.91</td>\n",
       "      <td>154.16</td>\n",
       "      <td>120.66</td>\n",
       "      <td>73.61</td>\n",
       "      <td>1638.570</td>\n",
       "    </tr>\n",
       "    <tr>\n",
       "      <th>10</th>\n",
       "      <td>GANGETIC WEST BENGAL</td>\n",
       "      <td>11.62</td>\n",
       "      <td>15.90</td>\n",
       "      <td>17.62</td>\n",
       "      <td>42.94</td>\n",
       "      <td>122.51</td>\n",
       "      <td>237.61</td>\n",
       "      <td>363.89</td>\n",
       "      <td>308.50</td>\n",
       "      <td>278.56</td>\n",
       "      <td>89.52</td>\n",
       "      <td>9.69</td>\n",
       "      <td>6.34</td>\n",
       "      <td>1504.720</td>\n",
       "    </tr>\n",
       "    <tr>\n",
       "      <th>23</th>\n",
       "      <td>ORISSA</td>\n",
       "      <td>11.20</td>\n",
       "      <td>9.31</td>\n",
       "      <td>10.72</td>\n",
       "      <td>30.90</td>\n",
       "      <td>66.61</td>\n",
       "      <td>205.65</td>\n",
       "      <td>363.13</td>\n",
       "      <td>368.42</td>\n",
       "      <td>277.72</td>\n",
       "      <td>96.74</td>\n",
       "      <td>18.24</td>\n",
       "      <td>5.73</td>\n",
       "      <td>1464.330</td>\n",
       "    </tr>\n",
       "    <tr>\n",
       "      <th>31</th>\n",
       "      <td>UTTARAKHAND</td>\n",
       "      <td>36.23</td>\n",
       "      <td>67.78</td>\n",
       "      <td>49.93</td>\n",
       "      <td>40.82</td>\n",
       "      <td>59.36</td>\n",
       "      <td>169.86</td>\n",
       "      <td>382.86</td>\n",
       "      <td>345.37</td>\n",
       "      <td>183.26</td>\n",
       "      <td>25.11</td>\n",
       "      <td>5.38</td>\n",
       "      <td>13.78</td>\n",
       "      <td>1379.770</td>\n",
       "    </tr>\n",
       "  </tbody>\n",
       "</table>\n",
       "</div>"
      ],
      "text/plain": [
       "                           SUBDIVISION    JAN    FEB     MAR     APR     MAY  \\\n",
       "6                    COASTAL KARNATAKA   2.92   5.13   27.24   45.05  116.68   \n",
       "17                        KONKAN & GOA   0.85   1.08    8.05    1.36   32.34   \n",
       "0            ANDAMAN & NICOBAR ISLANDS  77.89  28.22   56.44   94.62  380.86   \n",
       "16                              KERALA   7.08  15.18   57.22  121.55  196.89   \n",
       "1                    ARUNACHAL PRADESH  28.08  62.38  114.55  248.02  254.04   \n",
       "28  SUB HIMALAYAN WEST BENGAL & SIKKIM   9.13  27.91   55.01  131.94  266.15   \n",
       "2                    ASSAM & MEGHALAYA   8.31  21.55   54.49  187.85  285.04   \n",
       "21              NAGA MANI MIZO TRIPURA   9.31  14.67   33.55  132.90  260.13   \n",
       "18                         LAKSHADWEEP  15.75   7.94   20.55   36.20  132.28   \n",
       "10                GANGETIC WEST BENGAL  11.62  15.90   17.62   42.94  122.51   \n",
       "23                              ORISSA  11.20   9.31   10.72   30.90   66.61   \n",
       "31                         UTTARAKHAND  36.23  67.78   49.93   40.82   59.36   \n",
       "\n",
       "       JUN      JUL     AUG     SEP     OCT     NOV     DEC    ANNUAL  \n",
       "6   780.04  1120.88  811.12  436.29  203.24   88.87   12.96  3594.765  \n",
       "17  695.28  1096.14  712.59  446.36  143.77   30.99    1.71  3170.560  \n",
       "0   466.59   423.81  403.17  500.87  303.55  219.88  127.48  3083.360  \n",
       "16  604.34   664.27  424.66  349.32  306.18  167.57   32.42  2946.570  \n",
       "1   452.11   452.88  374.22  362.38  103.99   29.39   15.73  2497.790  \n",
       "28  484.68   552.68  478.26  352.02  104.78   14.74    5.30  2482.600  \n",
       "2   450.78   425.00  390.41  308.77  110.13   14.26    5.13  2261.700  \n",
       "21  343.20   332.02  345.62  276.77  136.69   17.75    6.06  1908.650  \n",
       "18  328.25   281.84  257.42  209.91  154.16  120.66   73.61  1638.570  \n",
       "10  237.61   363.89  308.50  278.56   89.52    9.69    6.34  1504.720  \n",
       "23  205.65   363.13  368.42  277.72   96.74   18.24    5.73  1464.330  \n",
       "31  169.86   382.86  345.37  183.26   25.11    5.38   13.78  1379.770  "
      ]
     },
     "execution_count": 54,
     "metadata": {},
     "output_type": "execute_result"
    }
   ],
   "source": [
    "first_df.loc[first_df.ANNUAL>a,:]"
   ]
  },
  {
   "cell_type": "markdown",
   "metadata": {},
   "source": [
    " "
   ]
  },
  {
   "cell_type": "markdown",
   "metadata": {},
   "source": [
    "Q6] Which subdivisions receive below average rainfall?"
   ]
  },
  {
   "cell_type": "code",
   "execution_count": 55,
   "metadata": {},
   "outputs": [
    {
     "data": {
      "text/html": [
       "<div>\n",
       "<style scoped>\n",
       "    .dataframe tbody tr th:only-of-type {\n",
       "        vertical-align: middle;\n",
       "    }\n",
       "\n",
       "    .dataframe tbody tr th {\n",
       "        vertical-align: top;\n",
       "    }\n",
       "\n",
       "    .dataframe thead th {\n",
       "        text-align: right;\n",
       "    }\n",
       "</style>\n",
       "<table border=\"1\" class=\"dataframe\">\n",
       "  <thead>\n",
       "    <tr style=\"text-align: right;\">\n",
       "      <th></th>\n",
       "      <th>SUBDIVISION</th>\n",
       "      <th>JAN</th>\n",
       "      <th>FEB</th>\n",
       "      <th>MAR</th>\n",
       "      <th>APR</th>\n",
       "      <th>MAY</th>\n",
       "      <th>JUN</th>\n",
       "      <th>JUL</th>\n",
       "      <th>AUG</th>\n",
       "      <th>SEP</th>\n",
       "      <th>OCT</th>\n",
       "      <th>NOV</th>\n",
       "      <th>DEC</th>\n",
       "      <th>ANNUAL</th>\n",
       "    </tr>\n",
       "  </thead>\n",
       "  <tbody>\n",
       "    <tr>\n",
       "      <th>14</th>\n",
       "      <td>JAMMU &amp; KASHMIR</td>\n",
       "      <td>86.75</td>\n",
       "      <td>129.49</td>\n",
       "      <td>114.40</td>\n",
       "      <td>79.69</td>\n",
       "      <td>61.13</td>\n",
       "      <td>81.69</td>\n",
       "      <td>167.05</td>\n",
       "      <td>192.30</td>\n",
       "      <td>110.91</td>\n",
       "      <td>31.21</td>\n",
       "      <td>22.58</td>\n",
       "      <td>52.20</td>\n",
       "      <td>1278.005</td>\n",
       "    </tr>\n",
       "    <tr>\n",
       "      <th>4</th>\n",
       "      <td>CHHATTISGARH</td>\n",
       "      <td>7.63</td>\n",
       "      <td>9.65</td>\n",
       "      <td>10.91</td>\n",
       "      <td>19.76</td>\n",
       "      <td>13.71</td>\n",
       "      <td>169.28</td>\n",
       "      <td>375.46</td>\n",
       "      <td>345.14</td>\n",
       "      <td>230.43</td>\n",
       "      <td>50.15</td>\n",
       "      <td>10.49</td>\n",
       "      <td>4.11</td>\n",
       "      <td>1246.700</td>\n",
       "    </tr>\n",
       "    <tr>\n",
       "      <th>15</th>\n",
       "      <td>JHARKHAND</td>\n",
       "      <td>8.45</td>\n",
       "      <td>13.61</td>\n",
       "      <td>11.10</td>\n",
       "      <td>17.05</td>\n",
       "      <td>58.60</td>\n",
       "      <td>181.99</td>\n",
       "      <td>312.33</td>\n",
       "      <td>289.97</td>\n",
       "      <td>216.49</td>\n",
       "      <td>64.53</td>\n",
       "      <td>7.35</td>\n",
       "      <td>3.21</td>\n",
       "      <td>1184.700</td>\n",
       "    </tr>\n",
       "    <tr>\n",
       "      <th>27</th>\n",
       "      <td>SOUTH INTERIOR KARNATAKA</td>\n",
       "      <td>1.84</td>\n",
       "      <td>5.35</td>\n",
       "      <td>25.24</td>\n",
       "      <td>52.69</td>\n",
       "      <td>94.68</td>\n",
       "      <td>154.15</td>\n",
       "      <td>229.52</td>\n",
       "      <td>204.84</td>\n",
       "      <td>158.02</td>\n",
       "      <td>112.94</td>\n",
       "      <td>69.71</td>\n",
       "      <td>8.30</td>\n",
       "      <td>1117.280</td>\n",
       "    </tr>\n",
       "    <tr>\n",
       "      <th>13</th>\n",
       "      <td>HIMACHAL PRADESH</td>\n",
       "      <td>66.69</td>\n",
       "      <td>97.77</td>\n",
       "      <td>88.15</td>\n",
       "      <td>54.25</td>\n",
       "      <td>48.65</td>\n",
       "      <td>112.23</td>\n",
       "      <td>215.39</td>\n",
       "      <td>241.33</td>\n",
       "      <td>114.92</td>\n",
       "      <td>18.49</td>\n",
       "      <td>17.62</td>\n",
       "      <td>31.94</td>\n",
       "      <td>1107.400</td>\n",
       "    </tr>\n",
       "    <tr>\n",
       "      <th>5</th>\n",
       "      <td>COASTAL ANDHRA PRADESH</td>\n",
       "      <td>6.70</td>\n",
       "      <td>11.83</td>\n",
       "      <td>15.31</td>\n",
       "      <td>27.88</td>\n",
       "      <td>61.29</td>\n",
       "      <td>141.98</td>\n",
       "      <td>178.42</td>\n",
       "      <td>206.23</td>\n",
       "      <td>191.49</td>\n",
       "      <td>158.27</td>\n",
       "      <td>90.47</td>\n",
       "      <td>15.74</td>\n",
       "      <td>1105.580</td>\n",
       "    </tr>\n",
       "    <tr>\n",
       "      <th>32</th>\n",
       "      <td>VIDARBHA</td>\n",
       "      <td>5.16</td>\n",
       "      <td>4.24</td>\n",
       "      <td>19.94</td>\n",
       "      <td>6.67</td>\n",
       "      <td>5.09</td>\n",
       "      <td>168.05</td>\n",
       "      <td>336.46</td>\n",
       "      <td>294.29</td>\n",
       "      <td>187.12</td>\n",
       "      <td>38.37</td>\n",
       "      <td>13.08</td>\n",
       "      <td>0.70</td>\n",
       "      <td>1079.190</td>\n",
       "    </tr>\n",
       "    <tr>\n",
       "      <th>3</th>\n",
       "      <td>BIHAR</td>\n",
       "      <td>8.35</td>\n",
       "      <td>10.84</td>\n",
       "      <td>8.45</td>\n",
       "      <td>17.53</td>\n",
       "      <td>68.56</td>\n",
       "      <td>153.80</td>\n",
       "      <td>291.61</td>\n",
       "      <td>256.37</td>\n",
       "      <td>181.78</td>\n",
       "      <td>48.44</td>\n",
       "      <td>3.10</td>\n",
       "      <td>1.41</td>\n",
       "      <td>1050.230</td>\n",
       "    </tr>\n",
       "    <tr>\n",
       "      <th>7</th>\n",
       "      <td>EAST MADHYA PRADESH</td>\n",
       "      <td>13.75</td>\n",
       "      <td>14.85</td>\n",
       "      <td>17.59</td>\n",
       "      <td>7.16</td>\n",
       "      <td>4.99</td>\n",
       "      <td>147.56</td>\n",
       "      <td>325.50</td>\n",
       "      <td>288.76</td>\n",
       "      <td>148.07</td>\n",
       "      <td>35.67</td>\n",
       "      <td>13.56</td>\n",
       "      <td>4.47</td>\n",
       "      <td>1021.900</td>\n",
       "    </tr>\n",
       "    <tr>\n",
       "      <th>33</th>\n",
       "      <td>WEST MADHYA PRADESH</td>\n",
       "      <td>8.35</td>\n",
       "      <td>9.05</td>\n",
       "      <td>11.70</td>\n",
       "      <td>2.80</td>\n",
       "      <td>5.86</td>\n",
       "      <td>122.57</td>\n",
       "      <td>340.18</td>\n",
       "      <td>299.72</td>\n",
       "      <td>145.82</td>\n",
       "      <td>21.91</td>\n",
       "      <td>9.99</td>\n",
       "      <td>4.27</td>\n",
       "      <td>982.270</td>\n",
       "    </tr>\n",
       "    <tr>\n",
       "      <th>29</th>\n",
       "      <td>TAMIL NADU</td>\n",
       "      <td>8.08</td>\n",
       "      <td>8.76</td>\n",
       "      <td>33.21</td>\n",
       "      <td>45.08</td>\n",
       "      <td>69.93</td>\n",
       "      <td>52.93</td>\n",
       "      <td>56.00</td>\n",
       "      <td>107.31</td>\n",
       "      <td>97.33</td>\n",
       "      <td>189.05</td>\n",
       "      <td>211.40</td>\n",
       "      <td>85.38</td>\n",
       "      <td>964.430</td>\n",
       "    </tr>\n",
       "    <tr>\n",
       "      <th>30</th>\n",
       "      <td>TELANGANA</td>\n",
       "      <td>3.73</td>\n",
       "      <td>6.77</td>\n",
       "      <td>25.93</td>\n",
       "      <td>20.45</td>\n",
       "      <td>22.10</td>\n",
       "      <td>137.80</td>\n",
       "      <td>227.41</td>\n",
       "      <td>245.91</td>\n",
       "      <td>186.52</td>\n",
       "      <td>60.99</td>\n",
       "      <td>19.57</td>\n",
       "      <td>1.64</td>\n",
       "      <td>958.840</td>\n",
       "    </tr>\n",
       "    <tr>\n",
       "      <th>11</th>\n",
       "      <td>GUJARAT REGION</td>\n",
       "      <td>0.79</td>\n",
       "      <td>0.16</td>\n",
       "      <td>0.75</td>\n",
       "      <td>1.42</td>\n",
       "      <td>0.28</td>\n",
       "      <td>69.07</td>\n",
       "      <td>362.92</td>\n",
       "      <td>298.35</td>\n",
       "      <td>182.79</td>\n",
       "      <td>12.66</td>\n",
       "      <td>5.52</td>\n",
       "      <td>0.25</td>\n",
       "      <td>935.000</td>\n",
       "    </tr>\n",
       "    <tr>\n",
       "      <th>19</th>\n",
       "      <td>MADHYA MAHARASHTRA</td>\n",
       "      <td>0.88</td>\n",
       "      <td>1.48</td>\n",
       "      <td>9.36</td>\n",
       "      <td>3.64</td>\n",
       "      <td>12.65</td>\n",
       "      <td>146.92</td>\n",
       "      <td>264.43</td>\n",
       "      <td>221.53</td>\n",
       "      <td>180.20</td>\n",
       "      <td>59.60</td>\n",
       "      <td>28.30</td>\n",
       "      <td>1.99</td>\n",
       "      <td>930.950</td>\n",
       "    </tr>\n",
       "    <tr>\n",
       "      <th>25</th>\n",
       "      <td>RAYALSEEMA</td>\n",
       "      <td>1.87</td>\n",
       "      <td>6.34</td>\n",
       "      <td>14.16</td>\n",
       "      <td>21.38</td>\n",
       "      <td>42.98</td>\n",
       "      <td>80.75</td>\n",
       "      <td>90.53</td>\n",
       "      <td>127.99</td>\n",
       "      <td>125.27</td>\n",
       "      <td>114.58</td>\n",
       "      <td>127.04</td>\n",
       "      <td>35.44</td>\n",
       "      <td>788.290</td>\n",
       "    </tr>\n",
       "    <tr>\n",
       "      <th>9</th>\n",
       "      <td>EAST UTTAR PRADESH</td>\n",
       "      <td>11.02</td>\n",
       "      <td>15.35</td>\n",
       "      <td>10.88</td>\n",
       "      <td>5.39</td>\n",
       "      <td>16.18</td>\n",
       "      <td>108.45</td>\n",
       "      <td>231.17</td>\n",
       "      <td>190.77</td>\n",
       "      <td>111.74</td>\n",
       "      <td>31.56</td>\n",
       "      <td>1.25</td>\n",
       "      <td>2.08</td>\n",
       "      <td>735.890</td>\n",
       "    </tr>\n",
       "    <tr>\n",
       "      <th>22</th>\n",
       "      <td>NORTH INTERIOR KARNATAKA</td>\n",
       "      <td>5.46</td>\n",
       "      <td>4.41</td>\n",
       "      <td>21.14</td>\n",
       "      <td>27.40</td>\n",
       "      <td>50.17</td>\n",
       "      <td>104.01</td>\n",
       "      <td>124.14</td>\n",
       "      <td>133.81</td>\n",
       "      <td>141.97</td>\n",
       "      <td>79.00</td>\n",
       "      <td>27.36</td>\n",
       "      <td>4.84</td>\n",
       "      <td>723.750</td>\n",
       "    </tr>\n",
       "    <tr>\n",
       "      <th>20</th>\n",
       "      <td>MATATHWADA</td>\n",
       "      <td>1.74</td>\n",
       "      <td>3.41</td>\n",
       "      <td>16.42</td>\n",
       "      <td>7.10</td>\n",
       "      <td>8.12</td>\n",
       "      <td>103.06</td>\n",
       "      <td>163.15</td>\n",
       "      <td>181.52</td>\n",
       "      <td>163.80</td>\n",
       "      <td>42.07</td>\n",
       "      <td>14.49</td>\n",
       "      <td>2.49</td>\n",
       "      <td>707.360</td>\n",
       "    </tr>\n",
       "    <tr>\n",
       "      <th>8</th>\n",
       "      <td>EAST RAJASTHAN</td>\n",
       "      <td>4.70</td>\n",
       "      <td>6.24</td>\n",
       "      <td>8.88</td>\n",
       "      <td>4.20</td>\n",
       "      <td>7.46</td>\n",
       "      <td>72.62</td>\n",
       "      <td>216.81</td>\n",
       "      <td>239.79</td>\n",
       "      <td>100.48</td>\n",
       "      <td>5.64</td>\n",
       "      <td>6.08</td>\n",
       "      <td>0.89</td>\n",
       "      <td>673.800</td>\n",
       "    </tr>\n",
       "    <tr>\n",
       "      <th>26</th>\n",
       "      <td>SAURASHTRA &amp; KUTCH</td>\n",
       "      <td>0.31</td>\n",
       "      <td>0.36</td>\n",
       "      <td>0.67</td>\n",
       "      <td>1.18</td>\n",
       "      <td>0.34</td>\n",
       "      <td>72.15</td>\n",
       "      <td>231.88</td>\n",
       "      <td>174.57</td>\n",
       "      <td>153.11</td>\n",
       "      <td>6.45</td>\n",
       "      <td>7.10</td>\n",
       "      <td>0.93</td>\n",
       "      <td>649.090</td>\n",
       "    </tr>\n",
       "    <tr>\n",
       "      <th>35</th>\n",
       "      <td>WEST UTTAR PRADESH</td>\n",
       "      <td>12.32</td>\n",
       "      <td>20.13</td>\n",
       "      <td>15.72</td>\n",
       "      <td>5.34</td>\n",
       "      <td>14.31</td>\n",
       "      <td>84.29</td>\n",
       "      <td>199.62</td>\n",
       "      <td>173.90</td>\n",
       "      <td>93.58</td>\n",
       "      <td>17.15</td>\n",
       "      <td>3.57</td>\n",
       "      <td>4.10</td>\n",
       "      <td>644.090</td>\n",
       "    </tr>\n",
       "    <tr>\n",
       "      <th>24</th>\n",
       "      <td>PUNJAB</td>\n",
       "      <td>15.63</td>\n",
       "      <td>24.51</td>\n",
       "      <td>22.72</td>\n",
       "      <td>15.23</td>\n",
       "      <td>15.18</td>\n",
       "      <td>70.93</td>\n",
       "      <td>128.46</td>\n",
       "      <td>146.81</td>\n",
       "      <td>87.36</td>\n",
       "      <td>7.72</td>\n",
       "      <td>2.77</td>\n",
       "      <td>7.80</td>\n",
       "      <td>545.120</td>\n",
       "    </tr>\n",
       "    <tr>\n",
       "      <th>12</th>\n",
       "      <td>HARYANA DELHI &amp; CHANDIGARH</td>\n",
       "      <td>6.95</td>\n",
       "      <td>19.56</td>\n",
       "      <td>18.82</td>\n",
       "      <td>9.48</td>\n",
       "      <td>19.63</td>\n",
       "      <td>60.33</td>\n",
       "      <td>108.94</td>\n",
       "      <td>116.63</td>\n",
       "      <td>93.03</td>\n",
       "      <td>4.34</td>\n",
       "      <td>1.64</td>\n",
       "      <td>3.58</td>\n",
       "      <td>462.920</td>\n",
       "    </tr>\n",
       "    <tr>\n",
       "      <th>34</th>\n",
       "      <td>WEST RAJASTHAN</td>\n",
       "      <td>1.77</td>\n",
       "      <td>7.63</td>\n",
       "      <td>8.63</td>\n",
       "      <td>7.38</td>\n",
       "      <td>10.58</td>\n",
       "      <td>34.41</td>\n",
       "      <td>97.16</td>\n",
       "      <td>119.86</td>\n",
       "      <td>59.15</td>\n",
       "      <td>2.06</td>\n",
       "      <td>2.24</td>\n",
       "      <td>1.76</td>\n",
       "      <td>352.600</td>\n",
       "    </tr>\n",
       "  </tbody>\n",
       "</table>\n",
       "</div>"
      ],
      "text/plain": [
       "                   SUBDIVISION    JAN     FEB     MAR    APR    MAY     JUN  \\\n",
       "14             JAMMU & KASHMIR  86.75  129.49  114.40  79.69  61.13   81.69   \n",
       "4                 CHHATTISGARH   7.63    9.65   10.91  19.76  13.71  169.28   \n",
       "15                   JHARKHAND   8.45   13.61   11.10  17.05  58.60  181.99   \n",
       "27    SOUTH INTERIOR KARNATAKA   1.84    5.35   25.24  52.69  94.68  154.15   \n",
       "13            HIMACHAL PRADESH  66.69   97.77   88.15  54.25  48.65  112.23   \n",
       "5       COASTAL ANDHRA PRADESH   6.70   11.83   15.31  27.88  61.29  141.98   \n",
       "32                    VIDARBHA   5.16    4.24   19.94   6.67   5.09  168.05   \n",
       "3                        BIHAR   8.35   10.84    8.45  17.53  68.56  153.80   \n",
       "7          EAST MADHYA PRADESH  13.75   14.85   17.59   7.16   4.99  147.56   \n",
       "33         WEST MADHYA PRADESH   8.35    9.05   11.70   2.80   5.86  122.57   \n",
       "29                  TAMIL NADU   8.08    8.76   33.21  45.08  69.93   52.93   \n",
       "30                   TELANGANA   3.73    6.77   25.93  20.45  22.10  137.80   \n",
       "11              GUJARAT REGION   0.79    0.16    0.75   1.42   0.28   69.07   \n",
       "19          MADHYA MAHARASHTRA   0.88    1.48    9.36   3.64  12.65  146.92   \n",
       "25                  RAYALSEEMA   1.87    6.34   14.16  21.38  42.98   80.75   \n",
       "9           EAST UTTAR PRADESH  11.02   15.35   10.88   5.39  16.18  108.45   \n",
       "22    NORTH INTERIOR KARNATAKA   5.46    4.41   21.14  27.40  50.17  104.01   \n",
       "20                  MATATHWADA   1.74    3.41   16.42   7.10   8.12  103.06   \n",
       "8               EAST RAJASTHAN   4.70    6.24    8.88   4.20   7.46   72.62   \n",
       "26          SAURASHTRA & KUTCH   0.31    0.36    0.67   1.18   0.34   72.15   \n",
       "35          WEST UTTAR PRADESH  12.32   20.13   15.72   5.34  14.31   84.29   \n",
       "24                      PUNJAB  15.63   24.51   22.72  15.23  15.18   70.93   \n",
       "12  HARYANA DELHI & CHANDIGARH   6.95   19.56   18.82   9.48  19.63   60.33   \n",
       "34              WEST RAJASTHAN   1.77    7.63    8.63   7.38  10.58   34.41   \n",
       "\n",
       "       JUL     AUG     SEP     OCT     NOV    DEC    ANNUAL  \n",
       "14  167.05  192.30  110.91   31.21   22.58  52.20  1278.005  \n",
       "4   375.46  345.14  230.43   50.15   10.49   4.11  1246.700  \n",
       "15  312.33  289.97  216.49   64.53    7.35   3.21  1184.700  \n",
       "27  229.52  204.84  158.02  112.94   69.71   8.30  1117.280  \n",
       "13  215.39  241.33  114.92   18.49   17.62  31.94  1107.400  \n",
       "5   178.42  206.23  191.49  158.27   90.47  15.74  1105.580  \n",
       "32  336.46  294.29  187.12   38.37   13.08   0.70  1079.190  \n",
       "3   291.61  256.37  181.78   48.44    3.10   1.41  1050.230  \n",
       "7   325.50  288.76  148.07   35.67   13.56   4.47  1021.900  \n",
       "33  340.18  299.72  145.82   21.91    9.99   4.27   982.270  \n",
       "29   56.00  107.31   97.33  189.05  211.40  85.38   964.430  \n",
       "30  227.41  245.91  186.52   60.99   19.57   1.64   958.840  \n",
       "11  362.92  298.35  182.79   12.66    5.52   0.25   935.000  \n",
       "19  264.43  221.53  180.20   59.60   28.30   1.99   930.950  \n",
       "25   90.53  127.99  125.27  114.58  127.04  35.44   788.290  \n",
       "9   231.17  190.77  111.74   31.56    1.25   2.08   735.890  \n",
       "22  124.14  133.81  141.97   79.00   27.36   4.84   723.750  \n",
       "20  163.15  181.52  163.80   42.07   14.49   2.49   707.360  \n",
       "8   216.81  239.79  100.48    5.64    6.08   0.89   673.800  \n",
       "26  231.88  174.57  153.11    6.45    7.10   0.93   649.090  \n",
       "35  199.62  173.90   93.58   17.15    3.57   4.10   644.090  \n",
       "24  128.46  146.81   87.36    7.72    2.77   7.80   545.120  \n",
       "12  108.94  116.63   93.03    4.34    1.64   3.58   462.920  \n",
       "34   97.16  119.86   59.15    2.06    2.24   1.76   352.600  "
      ]
     },
     "execution_count": 55,
     "metadata": {},
     "output_type": "execute_result"
    }
   ],
   "source": [
    "first_df.loc[first_df.ANNUAL<a,:]"
   ]
  },
  {
   "cell_type": "markdown",
   "metadata": {},
   "source": [
    " "
   ]
  },
  {
   "cell_type": "markdown",
   "metadata": {},
   "source": [
    "Let us save and upload our work to Jovian before continuing."
   ]
  },
  {
   "cell_type": "code",
   "execution_count": 56,
   "metadata": {},
   "outputs": [],
   "source": [
    "import jovian"
   ]
  },
  {
   "cell_type": "code",
   "execution_count": 57,
   "metadata": {},
   "outputs": [
    {
     "data": {
      "application/javascript": [
       "window.require && require([\"base/js/namespace\"],function(Jupyter){Jupyter.notebook.save_checkpoint()})"
      ],
      "text/plain": [
       "<IPython.core.display.Javascript object>"
      ]
     },
     "metadata": {},
     "output_type": "display_data"
    },
    {
     "name": "stdout",
     "output_type": "stream",
     "text": [
      "[jovian] Attempting to save notebook..\u001b[0m\n",
      "[jovian] Updating notebook \"chaudhari90009/rainfall-in-india-2005-2015\" on https://jovian.ml/\u001b[0m\n",
      "[jovian] Uploading notebook..\u001b[0m\n",
      "[jovian] Capturing environment..\u001b[0m\n",
      "[jovian] Committed successfully! https://jovian.ml/chaudhari90009/rainfall-in-india-2005-2015\u001b[0m\n"
     ]
    },
    {
     "data": {
      "text/plain": [
       "'https://jovian.ml/chaudhari90009/rainfall-in-india-2005-2015'"
      ]
     },
     "execution_count": 57,
     "metadata": {},
     "output_type": "execute_result"
    }
   ],
   "source": [
    "jovian.commit(project=project_name, files=[\"rainfall_in_india_1901-2015.csv\"])"
   ]
  },
  {
   "cell_type": "markdown",
   "metadata": {},
   "source": [
    "## Inferences and Conclusion\n",
    "This detailed analysis points out various patterns in rainfall over the country for a range of 10 years. <br>\n",
    "Some of the inferences are: <br>\n",
    "-July is the month receiving the highest rainfall over the years. <br>\n",
    "-The year 2007 received the highest rainfall over the span of 10 years. <br>\n",
    "-There are more subdivisions receiving below average rainfall than those receiving above average rainfall. <br>\n",
    "-We observed the pattern of how rainfall varies over various months and years. <br>\n",
    "-This analysis includes the comparison of rainfall between the two Indian islands: Andaman & Nicobar islands receive more rainfall than Lakshadweep islands. <br>\n",
    "-Some areas receive extremely low rainfall and should be a matter of concern. <br>\n",
    "\n",
    "\n",
    "\n",
    "\n",
    "\n"
   ]
  },
  {
   "cell_type": "code",
   "execution_count": 68,
   "metadata": {},
   "outputs": [],
   "source": [
    "import jovian"
   ]
  },
  {
   "cell_type": "code",
   "execution_count": null,
   "metadata": {},
   "outputs": [
    {
     "data": {
      "application/javascript": [
       "window.require && require([\"base/js/namespace\"],function(Jupyter){Jupyter.notebook.save_checkpoint()})"
      ],
      "text/plain": [
       "<IPython.core.display.Javascript object>"
      ]
     },
     "metadata": {},
     "output_type": "display_data"
    },
    {
     "name": "stdout",
     "output_type": "stream",
     "text": [
      "[jovian] Attempting to save notebook..\u001b[0m\n"
     ]
    }
   ],
   "source": [
    "jovian.commit(project=project_name, files=[\"rainfall_in_india_1901-2015.csv\"])"
   ]
  },
  {
   "cell_type": "markdown",
   "metadata": {},
   "source": [
    "## References \n",
    "The dataset used is accessed from kaggle :https://www.kaggle.com/rajanand/rainfall-in-india     <br>                        JovianML- Data Analysis with Python: Zero to Pandas\n",
    "\n",
    "\n"
   ]
  },
  {
   "cell_type": "code",
   "execution_count": 20,
   "metadata": {},
   "outputs": [],
   "source": [
    "import jovian"
   ]
  },
  {
   "cell_type": "code",
   "execution_count": 21,
   "metadata": {
    "scrolled": true
   },
   "outputs": [
    {
     "data": {
      "application/javascript": [
       "window.require && require([\"base/js/namespace\"],function(Jupyter){Jupyter.notebook.save_checkpoint()})"
      ],
      "text/plain": [
       "<IPython.core.display.Javascript object>"
      ]
     },
     "metadata": {},
     "output_type": "display_data"
    },
    {
     "name": "stdout",
     "output_type": "stream",
     "text": [
      "[jovian] Attempting to save notebook..\u001b[0m\n",
      "[jovian] Updating notebook \"chaudhari90009/rainfall-in-india-2005-2015\" on https://jovian.ml/\u001b[0m\n",
      "[jovian] Uploading notebook..\u001b[0m\n",
      "[jovian] Capturing environment..\u001b[0m\n",
      "[jovian] Uploading additional files...\u001b[0m\n",
      "[jovian] Committed successfully! https://jovian.ml/chaudhari90009/rainfall-in-india-2005-2015\u001b[0m\n"
     ]
    },
    {
     "data": {
      "text/plain": [
       "'https://jovian.ml/chaudhari90009/rainfall-in-india-2005-2015'"
      ]
     },
     "execution_count": 21,
     "metadata": {},
     "output_type": "execute_result"
    }
   ],
   "source": [
    "jovian.commit(project=project_name, files=[\"rainfall_in_india_1901-2015.csv\"])"
   ]
  }
 ],
 "metadata": {
  "language_info": {
   "codemirror_mode": {
    "name": "ipython",
    "version": 3
   },
   "file_extension": ".py",
   "mimetype": "text/x-python",
   "name": "python",
   "nbconvert_exporter": "python",
   "pygments_lexer": "ipython3",
   "version": "3.8.5"
  }
 },
 "nbformat": 4,
 "nbformat_minor": 4
}